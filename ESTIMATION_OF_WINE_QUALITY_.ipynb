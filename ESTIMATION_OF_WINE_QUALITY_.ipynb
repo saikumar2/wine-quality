{
  "nbformat": 4,
  "nbformat_minor": 0,
  "metadata": {
    "colab": {
      "name": "ESTIMATION OF WINE QUALITY .ipynb",
      "version": "0.3.2",
      "provenance": [],
      "collapsed_sections": []
    },
    "kernelspec": {
      "name": "python3",
      "display_name": "Python 3"
    }
  },
  "cells": [
    {
      "cell_type": "markdown",
      "metadata": {
        "id": "wF1Ie1tD-DIK",
        "colab_type": "text"
      },
      "source": [
        "# ESTIMATION OF WINE QUALITY USING THE CHEMICAL ANALYSIS DATA"
      ]
    },
    {
      "cell_type": "markdown",
      "metadata": {
        "id": "Kzd-e7JDEty6",
        "colab_type": "text"
      },
      "source": [
        "#Introduction"
      ]
    },
    {
      "cell_type": "markdown",
      "metadata": {
        "id": "O7h16Hf5-V8H",
        "colab_type": "text"
      },
      "source": [
        "The wine quality determines the price of the wine. The quality is measured from every aspects such as the vintage, variety, type, place , the grape used, and or the various chemical analysis. Each type of wine has its own composition and taste. \n",
        "\n",
        "There are about five types of wine: Red wine, White wine, Rose wine, Sparkling wine and Fortified wine.Since there are various varieties and blends under each type, the quality estimation has become difficult. In this report, we want to derive a new method of estimating quality using chemical analysis.\n",
        "\n",
        "\n",
        "![alt text](https://i.pinimg.com/originals/f8/69/cc/f869cc87b2246a31b480630de573aede.png)\n"
      ]
    },
    {
      "cell_type": "markdown",
      "metadata": {
        "id": "dLEbVpfmE-nG",
        "colab_type": "text"
      },
      "source": [
        "#Datasets\n",
        "\n",
        "we have taken two datasets:\n",
        "\n",
        "1)  Wine Quality by: Paulo Cortez (Univ. Minho), Antonio Cerdeira, Fernando Almeida, Telmo Matos and Jose Reis (CVRVV) @ 2009\n",
        "\n",
        "\n",
        "[Wine chemical datasets]"
      ]
    },
    {
      "cell_type": "code",
      "metadata": {
        "id": "I_Mwn9pMBuaT",
        "colab_type": "code",
        "outputId": "e58c565f-8015-4194-868c-2a836151e4fb",
        "colab": {
          "base_uri": "https://localhost:8080/",
          "height": 363
        }
      },
      "source": [
        "import pandas as pd\n",
        "import numpy as np\n",
        "\n",
        "chemical1 = pd.read_csv('wine_chemical_analysis1.csv')\n",
        "print(chemical1.shape)\n",
        "chemical1.info()"
      ],
      "execution_count": 0,
      "outputs": [
        {
          "output_type": "stream",
          "text": [
            "(6497, 13)\n",
            "<class 'pandas.core.frame.DataFrame'>\n",
            "RangeIndex: 6497 entries, 0 to 6496\n",
            "Data columns (total 13 columns):\n",
            "type                    6497 non-null object\n",
            "fixed acidity           6487 non-null float64\n",
            "volatile acidity        6489 non-null float64\n",
            "citric acid             6494 non-null float64\n",
            "residual sugar          6495 non-null float64\n",
            "chlorides               6495 non-null float64\n",
            "free sulfur dioxide     6497 non-null float64\n",
            "total sulfur dioxide    6497 non-null float64\n",
            "density                 6497 non-null float64\n",
            "pH                      6488 non-null float64\n",
            "sulphates               6493 non-null float64\n",
            "alcohol                 6497 non-null float64\n",
            "quality                 6497 non-null int64\n",
            "dtypes: float64(11), int64(1), object(1)\n",
            "memory usage: 659.9+ KB\n"
          ],
          "name": "stdout"
        }
      ]
    },
    {
      "cell_type": "code",
      "metadata": {
        "id": "cM1F5uGE9Btm",
        "colab_type": "code",
        "outputId": "27207996-9660-4bb3-ad35-6f1fdf960abe",
        "colab": {
          "base_uri": "https://localhost:8080/",
          "height": 345
        }
      },
      "source": [
        "sensory1 = pd.read_csv('wine_sensory_analysis1.csv',engine='python', error_bad_lines=False)\n",
        "print(sensory1.shape)\n",
        "sensory1.info()"
      ],
      "execution_count": 0,
      "outputs": [
        {
          "output_type": "stream",
          "text": [
            "Skipping line 102513: unexpected end of data\n"
          ],
          "name": "stderr"
        },
        {
          "output_type": "stream",
          "text": [
            "(102511, 11)\n",
            "<class 'pandas.core.frame.DataFrame'>\n",
            "RangeIndex: 102511 entries, 0 to 102510\n",
            "Data columns (total 11 columns):\n",
            "Unnamed: 0     102511 non-null int64\n",
            "country        102508 non-null object\n",
            "description    102511 non-null object\n",
            "designation    72044 non-null object\n",
            "points         102511 non-null int64\n",
            "price          92484 non-null float64\n",
            "province       102508 non-null object\n",
            "region_1       85860 non-null object\n",
            "region_2       40864 non-null object\n",
            "variety        102511 non-null object\n",
            "winery         102511 non-null object\n",
            "dtypes: float64(1), int64(2), object(8)\n",
            "memory usage: 8.6+ MB\n"
          ],
          "name": "stdout"
        }
      ]
    },
    {
      "cell_type": "markdown",
      "metadata": {
        "id": "I2_vmib5DE1X",
        "colab_type": "text"
      },
      "source": [
        "2) Wine Review: The data was scraped from WineEnthusiast during the week of June 15th, 2017.\n",
        "\n",
        "[Wine review datasets]"
      ]
    },
    {
      "cell_type": "code",
      "metadata": {
        "id": "6MMgGRViDvQs",
        "colab_type": "code",
        "outputId": "da05982f-a44f-490b-8239-43c571e324a4",
        "colab": {
          "base_uri": "https://localhost:8080/",
          "height": 399
        }
      },
      "source": [
        "sensory2 = pd.read_csv('wine_sensory_analysis2.csv',engine='python', error_bad_lines=False)\n",
        "print(sensory2.shape)\n",
        "sensory2.info()"
      ],
      "execution_count": 0,
      "outputs": [
        {
          "output_type": "stream",
          "text": [
            "Skipping line 82491: unexpected end of data\n"
          ],
          "name": "stderr"
        },
        {
          "output_type": "stream",
          "text": [
            "(82489, 14)\n",
            "<class 'pandas.core.frame.DataFrame'>\n",
            "RangeIndex: 82489 entries, 0 to 82488\n",
            "Data columns (total 14 columns):\n",
            "Unnamed: 0               82489 non-null int64\n",
            "country                  82450 non-null object\n",
            "description              82489 non-null object\n",
            "designation              58692 non-null object\n",
            "points                   82489 non-null int64\n",
            "price                    76717 non-null float64\n",
            "province                 82450 non-null object\n",
            "region_1                 69035 non-null object\n",
            "region_2                 31739 non-null object\n",
            "taster_name              65695 non-null object\n",
            "taster_twitter_handle    62640 non-null object\n",
            "title                    82489 non-null object\n",
            "variety                  82489 non-null object\n",
            "winery                   82489 non-null object\n",
            "dtypes: float64(1), int64(2), object(11)\n",
            "memory usage: 8.8+ MB\n"
          ],
          "name": "stdout"
        }
      ]
    },
    {
      "cell_type": "markdown",
      "metadata": {
        "id": "UaIpHYqJFMX-",
        "colab_type": "text"
      },
      "source": [
        "# Analysis of wine chemical dataset"
      ]
    },
    {
      "cell_type": "markdown",
      "metadata": {
        "id": "zCJ_v87-LxiW",
        "colab_type": "text"
      },
      "source": [
        " First, we will divide the dataset for both white wine and red wine."
      ]
    },
    {
      "cell_type": "code",
      "metadata": {
        "id": "l_kKFWPkMos9",
        "colab_type": "code",
        "outputId": "807a1aa8-28ed-4a7a-be40-daf6f63367c5",
        "colab": {
          "base_uri": "https://localhost:8080/",
          "height": 305
        }
      },
      "source": [
        "import matplotlib.pyplot as pit\n",
        "\n",
        "\n",
        "total = len(chemical1.index)\n",
        "white_wine = chemical1[chemical1['type']=='white']\n",
        "print(\"Percentage of white wine: \",(len(white_wine.index)/total)*100,\"%\")\n",
        "red_wine = chemical1[chemical1['type']=='red']\n",
        "print(\"Percentage of red wine: \",(len(red_wine.index)/total)*100,\"%\")\n",
        "\n",
        "pit.pie([len(white_wine.index),len(red_wine.index)], colors = ['#635e6b','#EF5350'], labels = ['white wine','red wine'],startangle=90)\n",
        "pit.title('Types in the wine chemical datasets')\n",
        "pit.show()"
      ],
      "execution_count": 0,
      "outputs": [
        {
          "output_type": "stream",
          "text": [
            "Percentage of white wine:  75.38864091118978 %\n",
            "Percentage of red wine:  24.611359088810218 %\n"
          ],
          "name": "stdout"
        },
        {
          "output_type": "display_data",
          "data": {
            "image/png": "[encoded data removed]",
            "text/plain": [
              "<Figure size 432x288 with 1 Axes>"
            ]
          },
          "metadata": {
            "tags": []
          }
        }
      ]
    },
    {
      "cell_type": "markdown",
      "metadata": {
        "id": "gzPmtXuwPXUk",
        "colab_type": "text"
      },
      "source": [
        "The number of wines in each quality point of both red and white wine are:"
      ]
    },
    {
      "cell_type": "code",
      "metadata": {
        "id": "73PleuVcPini",
        "colab_type": "code",
        "outputId": "33e60c2b-2ddc-4481-eaa4-23716129d5aa",
        "colab": {
          "base_uri": "https://localhost:8080/",
          "height": 1139
        }
      },
      "source": [
        "from prettytable import PrettyTable\n",
        "\n",
        "labels = ['Q 1','Q 2','Q 3','Q 4','Q 5','Q 6','Q 7','Q 8','Q 9','Q 10']\n",
        "t = PrettyTable(['Quality', 'white wine', 'red wine'])\n",
        "values_white = []\n",
        "values_red = []\n",
        "for i in range(1,11):\n",
        "  values_white.append(len(white_wine[white_wine['quality']==i]))\n",
        "  values_red.append(len(red_wine[red_wine['quality']==i]))\n",
        "  t.add_row([i,len(white_wine[white_wine['quality']==i]),len(red_wine[red_wine['quality']==i])])\n",
        "\n",
        "print('Wines in each quality')\n",
        "print(t)\n",
        "\n",
        "colors_w = ['#fdf7ff','#f8f2ff','#f1ebfa','#e2ddec','#bfbac8','#a09ba9','#77727f','#635e6b','#433f4b','#221e29']\n",
        "colors_r = ['#FFEBEE','#FFCDD2','#EF9A9A','#E57373','#EF5350','#F44336','#E53935','#D32F2F','#C62828','#B71C1C']\n",
        "\n",
        "fig,(ax1,ax2)= pit.subplots(2,1)\n",
        "fig.set_size_inches(15,15)\n",
        "ax1.pie(values_white, colors = colors_w, labels=labels, startangle=90)\n",
        "ax1.set_title('Number of white wines in each quality')\n",
        "ax1.legend()\n",
        "\n",
        "ax2.pie(values_red, colors = colors_r, labels=labels, startangle=90)\n",
        "ax2.set_title('Number of red wines in each quality')\n",
        "ax2.legend()\n",
        "\n",
        "pit.show()\n"
      ],
      "execution_count": 0,
      "outputs": [
        {
          "output_type": "stream",
          "text": [
            "Wines in each quality\n",
            "+---------+------------+----------+\n",
            "| Quality | white wine | red wine |\n",
            "+---------+------------+----------+\n",
            "|    1    |     0      |    0     |\n",
            "|    2    |     0      |    0     |\n",
            "|    3    |     20     |    10    |\n",
            "|    4    |    163     |    53    |\n",
            "|    5    |    1457    |   681    |\n",
            "|    6    |    2198    |   638    |\n",
            "|    7    |    880     |   199    |\n",
            "|    8    |    175     |    18    |\n",
            "|    9    |     5      |    0     |\n",
            "|    10   |     0      |    0     |\n",
            "+---------+------------+----------+\n"
          ],
          "name": "stdout"
        },
        {
          "output_type": "display_data",
          "data": {
            "image/png": "[encoded data removed]",
            "text/plain": [
              "<Figure size 1080x1080 with 2 Axes>"
            ]
          },
          "metadata": {
            "tags": []
          }
        }
      ]
    },
    {
      "cell_type": "markdown",
      "metadata": {
        "id": "q7wvvJkTMpgE",
        "colab_type": "text"
      },
      "source": [
        "Let's analysis this data by finding the minimum and maximum value of each chemical attribute for every quality points both in the case of red and white wine."
      ]
    },
    {
      "cell_type": "code",
      "metadata": {
        "id": "7u7r11sDdvHF",
        "colab_type": "code",
        "outputId": "c4cb0db4-6aa2-4a19-b452-616c8d4d5d3d",
        "colab": {
          "base_uri": "https://localhost:8080/",
          "height": 8073
        }
      },
      "source": [
        "import seaborn as sns\n",
        "\n",
        "feature_names = ['fixed acidity','volatile acidity', 'citric acid','residual sugar','chlorides','free sulfur dioxide','total sulfur dioxide','density','pH','sulphates','alcohol']\n",
        "\n",
        "def find_MIN_MAX(df,q):\n",
        "  print(\"quality: \", q)\n",
        "  if(df.empty):\n",
        "    print('no datasets')\n",
        "    return\n",
        "  else:\n",
        "    t = PrettyTable(['Name', 'min', 'max'])\n",
        "    min_list=[]\n",
        "    max_list=[]\n",
        "    for x in range(1,12):\n",
        "      name = df.columns[x]\n",
        "      mini = df[df.columns[x]].min()\n",
        "      min_list.append(mini)\n",
        "      maxi = df[df.columns[x]].max()\n",
        "      max_list.append(maxi)\n",
        "      t.add_row([name,mini,maxi])\n",
        "    print(t)\n",
        "    barWidth = 0.3\n",
        "    pit.figure(figsize=(18, 5))\n",
        "    r1 = np.arange(len(min_list))\n",
        "    r2 = [x + barWidth for x in r1]\n",
        "    pit.bar(r1, min_list, width = barWidth, color = 'blue', edgecolor = 'black',label='Min')\n",
        "    pit.bar(r2, max_list, width = barWidth, color = 'cyan', edgecolor = 'black', label='Max')\n",
        "    pit.xticks([r + barWidth for r in range(len(min_list))], feature_names)\n",
        "    pit.ylabel('Values')\n",
        "    pit.legend()\n",
        "    pit.show()\n",
        "\n",
        "    \n",
        "\n",
        "print('Red Wine Data:')\n",
        "\n",
        "for i in range(1,11):\n",
        "   find_MIN_MAX(red_wine[red_wine['quality']==i],i)\n",
        "\n",
        "\n",
        "\n",
        "print('White Wine Data:')\n",
        "\n",
        "for i in range(1,11):\n",
        "  find_MIN_MAX(white_wine[white_wine['quality']==i],i)\n"
      ],
      "execution_count": 0,
      "outputs": [
        {
          "output_type": "stream",
          "text": [
            "Red Wine Data:\n",
            "quality:  1\n",
            "no datasets\n",
            "quality:  2\n",
            "no datasets\n",
            "quality:  3\n",
            "+----------------------+---------+--------+\n",
            "|         Name         |   min   |  max   |\n",
            "+----------------------+---------+--------+\n",
            "|    fixed acidity     |   6.7   |  11.6  |\n",
            "|   volatile acidity   |   0.44  |  1.58  |\n",
            "|     citric acid      |   0.0   |  0.66  |\n",
            "|    residual sugar    |   1.2   |  5.7   |\n",
            "|      chlorides       |  0.061  | 0.267  |\n",
            "| free sulfur dioxide  |   3.0   |  34.0  |\n",
            "| total sulfur dioxide |   9.0   |  49.0  |\n",
            "|       density        | 0.99471 | 1.0008 |\n",
            "|          pH          |   3.16  |  3.63  |\n",
            "|      sulphates       |   0.4   |  0.86  |\n",
            "|       alcohol        |   8.4   |  11.0  |\n",
            "+----------------------+---------+--------+\n"
          ],
          "name": "stdout"
        },
        {
          "output_type": "display_data",
          "data": {
            "image/png": "[encoded data removed]",
            "text/plain": [
              "<Figure size 1296x360 with 1 Axes>"
            ]
          },
          "metadata": {
            "tags": []
          }
        },
        {
          "output_type": "stream",
          "text": [
            "quality:  4\n",
            "+----------------------+--------+-------+\n",
            "|         Name         |  min   |  max  |\n",
            "+----------------------+--------+-------+\n",
            "|    fixed acidity     |  4.6   |  12.5 |\n",
            "|   volatile acidity   |  0.23  |  1.13 |\n",
            "|     citric acid      |  0.0   |  1.0  |\n",
            "|    residual sugar    |  1.3   |  12.9 |\n",
            "|      chlorides       | 0.045  |  0.61 |\n",
            "| free sulfur dioxide  |  3.0   |  41.0 |\n",
            "| total sulfur dioxide |  7.0   | 119.0 |\n",
            "|       density        | 0.9934 | 1.001 |\n",
            "|          pH          |  2.74  |  3.9  |\n",
            "|      sulphates       |  0.33  |  2.0  |\n",
            "|       alcohol        |  9.0   |  13.1 |\n",
            "+----------------------+--------+-------+\n"
          ],
          "name": "stdout"
        },
        {
          "output_type": "display_data",
          "data": {
            "image/png": "[encoded data removed]",
            "text/plain": [
              "<Figure size 1296x360 with 1 Axes>"
            ]
          },
          "metadata": {
            "tags": []
          }
        },
        {
          "output_type": "stream",
          "text": [
            "quality:  5\n",
            "+----------------------+---------+---------+\n",
            "|         Name         |   min   |   max   |\n",
            "+----------------------+---------+---------+\n",
            "|    fixed acidity     |   5.0   |   15.9  |\n",
            "|   volatile acidity   |   0.18  |   1.33  |\n",
            "|     citric acid      |   0.0   |   0.79  |\n",
            "|    residual sugar    |   1.2   |   15.5  |\n",
            "|      chlorides       |  0.039  |  0.611  |\n",
            "| free sulfur dioxide  |   3.0   |   68.0  |\n",
            "| total sulfur dioxide |   6.0   |  155.0  |\n",
            "|       density        | 0.99256 | 1.00315 |\n",
            "|          pH          |   2.88  |   3.74  |\n",
            "|      sulphates       |   0.37  |   1.98  |\n",
            "|       alcohol        |   8.5   |   14.9  |\n",
            "+----------------------+---------+---------+\n"
          ],
          "name": "stdout"
        },
        {
          "output_type": "display_data",
          "data": {
            "image/png": "[encoded data removed]",
            "text/plain": [
              "<Figure size 1296x360 with 1 Axes>"
            ]
          },
          "metadata": {
            "tags": []
          }
        },
        {
          "output_type": "stream",
          "text": [
            "quality:  6\n",
            "+----------------------+--------------------+---------+\n",
            "|         Name         |        min         |   max   |\n",
            "+----------------------+--------------------+---------+\n",
            "|    fixed acidity     |        4.7         |   14.3  |\n",
            "|   volatile acidity   |        0.16        |   1.04  |\n",
            "|     citric acid      |        0.0         |   0.78  |\n",
            "|    residual sugar    |        0.9         |   15.4  |\n",
            "|      chlorides       |       0.034        |  0.415  |\n",
            "| free sulfur dioxide  |        1.0         |   72.0  |\n",
            "| total sulfur dioxide |        6.0         |  165.0  |\n",
            "|       density        | 0.9900700000000001 | 1.00369 |\n",
            "|          pH          |        2.86        |   4.01  |\n",
            "|      sulphates       |        0.4         |   1.95  |\n",
            "|       alcohol        |        8.4         |   14.0  |\n",
            "+----------------------+--------------------+---------+\n"
          ],
          "name": "stdout"
        },
        {
          "output_type": "display_data",
          "data": {
            "image/png": "[encoded data removed]",
            "text/plain": [
              "<Figure size 1296x360 with 1 Axes>"
            ]
          },
          "metadata": {
            "tags": []
          }
        },
        {
          "output_type": "stream",
          "text": [
            "quality:  7\n",
            "+----------------------+---------+--------+\n",
            "|         Name         |   min   |  max   |\n",
            "+----------------------+---------+--------+\n",
            "|    fixed acidity     |   4.9   |  15.6  |\n",
            "|   volatile acidity   |   0.12  | 0.915  |\n",
            "|     citric acid      |   0.0   |  0.76  |\n",
            "|    residual sugar    |   1.2   |  8.9   |\n",
            "|      chlorides       |  0.012  | 0.358  |\n",
            "| free sulfur dioxide  |   3.0   |  54.0  |\n",
            "| total sulfur dioxide |   7.0   | 289.0  |\n",
            "|       density        | 0.99064 | 1.0032 |\n",
            "|          pH          |   2.92  |  3.78  |\n",
            "|      sulphates       |   0.39  |  1.36  |\n",
            "|       alcohol        |   9.2   |  14.0  |\n",
            "+----------------------+---------+--------+\n"
          ],
          "name": "stdout"
        },
        {
          "output_type": "display_data",
          "data": {
            "image/png": "[encoded data removed]",
            "text/plain": [
              "<Figure size 1296x360 with 1 Axes>"
            ]
          },
          "metadata": {
            "tags": []
          }
        },
        {
          "output_type": "stream",
          "text": [
            "quality:  8\n",
            "+----------------------+----------------------+--------+\n",
            "|         Name         |         min          |  max   |\n",
            "+----------------------+----------------------+--------+\n",
            "|    fixed acidity     |         5.0          |  12.6  |\n",
            "|   volatile acidity   |         0.26         |  0.85  |\n",
            "|     citric acid      |         0.03         |  0.72  |\n",
            "|    residual sugar    |         1.4          |  6.4   |\n",
            "|      chlorides       | 0.044000000000000004 | 0.086  |\n",
            "| free sulfur dioxide  |         3.0          |  42.0  |\n",
            "| total sulfur dioxide |         12.0         |  88.0  |\n",
            "|       density        |        0.9908        | 0.9988 |\n",
            "|          pH          |         2.88         |  3.72  |\n",
            "|      sulphates       |         0.63         |  1.1   |\n",
            "|       alcohol        |         9.8          |  14.0  |\n",
            "+----------------------+----------------------+--------+\n"
          ],
          "name": "stdout"
        },
        {
          "output_type": "display_data",
          "data": {
            "image/png": "[encoded data removed]",
            "text/plain": [
              "<Figure size 1296x360 with 1 Axes>"
            ]
          },
          "metadata": {
            "tags": []
          }
        },
        {
          "output_type": "stream",
          "text": [
            "quality:  9\n",
            "no datasets\n",
            "quality:  10\n",
            "no datasets\n",
            "White Wine Data:\n",
            "quality:  1\n",
            "no datasets\n",
            "quality:  2\n",
            "no datasets\n",
            "quality:  3\n",
            "+----------------------+----------------------+--------+\n",
            "|         Name         |         min          |  max   |\n",
            "+----------------------+----------------------+--------+\n",
            "|    fixed acidity     |         4.2          |  11.8  |\n",
            "|   volatile acidity   |         0.17         |  0.64  |\n",
            "|     citric acid      |         0.21         |  0.47  |\n",
            "|    residual sugar    |         0.7          |  16.2  |\n",
            "|      chlorides       | 0.022000000000000002 | 0.244  |\n",
            "| free sulfur dioxide  |         5.0          | 289.0  |\n",
            "| total sulfur dioxide |         19.0         | 440.0  |\n",
            "|       density        |        0.9911        | 1.0001 |\n",
            "|          pH          |         2.87         |  3.55  |\n",
            "|      sulphates       |         0.28         |  0.74  |\n",
            "|       alcohol        |         8.0          |  12.6  |\n",
            "+----------------------+----------------------+--------+\n"
          ],
          "name": "stdout"
        },
        {
          "output_type": "display_data",
          "data": {
            "image/png": "[encoded data removed]",
            "text/plain": [
              "<Figure size 1296x360 with 1 Axes>"
            ]
          },
          "metadata": {
            "tags": []
          }
        },
        {
          "output_type": "stream",
          "text": [
            "quality:  4\n",
            "+----------------------+----------------------+--------+\n",
            "|         Name         |         min          |  max   |\n",
            "+----------------------+----------------------+--------+\n",
            "|    fixed acidity     |         4.8          |  10.2  |\n",
            "|   volatile acidity   |         0.11         |  1.1   |\n",
            "|     citric acid      |         0.0          |  0.88  |\n",
            "|    residual sugar    |         0.7          | 17.55  |\n",
            "|      chlorides       | 0.013000000000000001 |  0.29  |\n",
            "| free sulfur dioxide  |         3.0          | 138.5  |\n",
            "| total sulfur dioxide |         10.0         | 272.0  |\n",
            "|       density        |        0.9892        | 1.0004 |\n",
            "|          pH          |         2.83         |  3.72  |\n",
            "|      sulphates       |         0.25         |  0.87  |\n",
            "|       alcohol        |         8.4          |  13.5  |\n",
            "+----------------------+----------------------+--------+\n"
          ],
          "name": "stdout"
        },
        {
          "output_type": "display_data",
          "data": {
            "image/png": "[encoded data removed]",
            "text/plain": [
              "<Figure size 1296x360 with 1 Axes>"
            ]
          },
          "metadata": {
            "tags": []
          }
        },
        {
          "output_type": "stream",
          "text": [
            "quality:  5\n",
            "+----------------------+----------------------+---------------------+\n",
            "|         Name         |         min          |         max         |\n",
            "+----------------------+----------------------+---------------------+\n",
            "|    fixed acidity     |         4.5          |         10.3        |\n",
            "|   volatile acidity   |         0.1          |        0.905        |\n",
            "|     citric acid      |         0.0          |         1.0         |\n",
            "|    residual sugar    |         0.6          |         23.5        |\n",
            "|      chlorides       | 0.009000000000000001 | 0.34600000000000003 |\n",
            "| free sulfur dioxide  |         2.0          |        131.0        |\n",
            "| total sulfur dioxide |         9.0          |        344.0        |\n",
            "|       density        |  0.9872200000000001  |       1.00241       |\n",
            "|          pH          |         2.79         |         3.79        |\n",
            "|      sulphates       |         0.27         |         0.88        |\n",
            "|       alcohol        |         8.0          |         13.6        |\n",
            "+----------------------+----------------------+---------------------+\n"
          ],
          "name": "stdout"
        },
        {
          "output_type": "display_data",
          "data": {
            "image/png": "[encoded data removed]",
            "text/plain": [
              "<Figure size 1296x360 with 1 Axes>"
            ]
          },
          "metadata": {
            "tags": []
          }
        },
        {
          "output_type": "stream",
          "text": [
            "quality:  6\n",
            "+----------------------+--------------------+---------+\n",
            "|         Name         |        min         |   max   |\n",
            "+----------------------+--------------------+---------+\n",
            "|    fixed acidity     |        3.8         |   14.2  |\n",
            "|   volatile acidity   |        0.08        |  0.965  |\n",
            "|     citric acid      |        0.0         |   1.66  |\n",
            "|    residual sugar    |        0.7         |   65.8  |\n",
            "|      chlorides       |       0.015        |  0.255  |\n",
            "| free sulfur dioxide  |        3.0         |  112.0  |\n",
            "| total sulfur dioxide |        18.0        |  294.0  |\n",
            "|       density        | 0.9875799999999999 | 1.03898 |\n",
            "|          pH          |        2.72        |   3.81  |\n",
            "|      sulphates       |        0.23        |   1.06  |\n",
            "|       alcohol        |        8.5         |   14.0  |\n",
            "+----------------------+--------------------+---------+\n"
          ],
          "name": "stdout"
        },
        {
          "output_type": "display_data",
          "data": {
            "image/png": "[encoded data removed]",
            "text/plain": [
              "<Figure size 1296x360 with 1 Axes>"
            ]
          },
          "metadata": {
            "tags": []
          }
        },
        {
          "output_type": "stream",
          "text": [
            "quality:  7\n",
            "+----------------------+---------+--------+\n",
            "|         Name         |   min   |  max   |\n",
            "+----------------------+---------+--------+\n",
            "|    fixed acidity     |   4.2   |  9.2   |\n",
            "|   volatile acidity   |   0.08  |  0.76  |\n",
            "|     citric acid      |   0.01  |  0.74  |\n",
            "|    residual sugar    |   0.9   | 19.25  |\n",
            "|      chlorides       |  0.012  | 0.135  |\n",
            "| free sulfur dioxide  |   5.0   | 108.0  |\n",
            "| total sulfur dioxide |   34.0  | 229.0  |\n",
            "|       density        | 0.98711 | 1.0004 |\n",
            "|          pH          |   2.84  |  3.82  |\n",
            "|      sulphates       |   0.22  |  1.08  |\n",
            "|       alcohol        |   8.6   |  14.2  |\n",
            "+----------------------+---------+--------+\n"
          ],
          "name": "stdout"
        },
        {
          "output_type": "display_data",
          "data": {
            "image/png": "[encoded data removed]",
            "text/plain": [
              "<Figure size 1296x360 with 1 Axes>"
            ]
          },
          "metadata": {
            "tags": []
          }
        },
        {
          "output_type": "stream",
          "text": [
            "quality:  8\n",
            "+----------------------+----------------------+--------+\n",
            "|         Name         |         min          |  max   |\n",
            "+----------------------+----------------------+--------+\n",
            "|    fixed acidity     |         3.9          |  8.2   |\n",
            "|   volatile acidity   |         0.12         |  0.66  |\n",
            "|     citric acid      |         0.04         |  0.74  |\n",
            "|    residual sugar    |         0.8          |  14.8  |\n",
            "|      chlorides       | 0.013999999999999999 | 0.121  |\n",
            "| free sulfur dioxide  |         6.0          | 105.0  |\n",
            "| total sulfur dioxide |         59.0         | 212.5  |\n",
            "|       density        |       0.98713        | 1.0006 |\n",
            "|          pH          |         2.94         |  3.59  |\n",
            "|      sulphates       |         0.25         |  0.95  |\n",
            "|       alcohol        |         8.5          |  14.0  |\n",
            "+----------------------+----------------------+--------+\n"
          ],
          "name": "stdout"
        },
        {
          "output_type": "display_data",
          "data": {
            "image/png": "[encoded data removed]",
            "text/plain": [
              "<Figure size 1296x360 with 1 Axes>"
            ]
          },
          "metadata": {
            "tags": []
          }
        },
        {
          "output_type": "stream",
          "text": [
            "quality:  9\n",
            "+----------------------+----------------------+-------+\n",
            "|         Name         |         min          |  max  |\n",
            "+----------------------+----------------------+-------+\n",
            "|    fixed acidity     |         6.6          |  9.1  |\n",
            "|   volatile acidity   |         0.24         |  0.36 |\n",
            "|     citric acid      |         0.29         |  0.49 |\n",
            "|    residual sugar    |         1.6          |  10.6 |\n",
            "|      chlorides       | 0.018000000000000002 | 0.035 |\n",
            "| free sulfur dioxide  |         24.0         |  57.0 |\n",
            "| total sulfur dioxide |         85.0         | 139.0 |\n",
            "|       density        |       0.98965        | 0.997 |\n",
            "|          pH          |         3.2          |  3.41 |\n",
            "|      sulphates       |         0.36         |  0.61 |\n",
            "|       alcohol        |         10.4         |  12.9 |\n",
            "+----------------------+----------------------+-------+\n"
          ],
          "name": "stdout"
        },
        {
          "output_type": "display_data",
          "data": {
            "image/png": "[encoded data removed]",
            "text/plain": [
              "<Figure size 1296x360 with 1 Axes>"
            ]
          },
          "metadata": {
            "tags": []
          }
        },
        {
          "output_type": "stream",
          "text": [
            "quality:  10\n",
            "no datasets\n"
          ],
          "name": "stdout"
        }
      ]
    },
    {
      "cell_type": "markdown",
      "metadata": {
        "id": "S4hOzDxzzk_w",
        "colab_type": "text"
      },
      "source": [
        "Since the quality points mentioned here is in the scale of 0-10, we will change it into scale of 100.\n",
        "\n",
        "NewValue = (((OldValue - OldMin) * (NewMax - NewMin)) / (OldMax - OldMin)) + NewMin"
      ]
    },
    {
      "cell_type": "code",
      "metadata": {
        "id": "MUgdwfed0EqC",
        "colab_type": "code",
        "outputId": "4cc8d13b-9f1c-489f-83de-39add23f1341",
        "colab": {
          "base_uri": "https://localhost:8080/",
          "height": 343
        }
      },
      "source": [
        "#for white wine\n",
        "old_min = white_wine['quality'].min()\n",
        "old_max = white_wine['quality'].max()\n",
        "\n",
        "new_min = sensory1['points'].min()\n",
        "new_max = sensory1['points'].max()\n",
        "print(new_max)\n",
        "\n",
        "white_wine['points'] = (((white_wine['quality'] - old_min) * (new_max - new_min)) / (old_max - old_min)) + new_min\n",
        "white_wine.head()"
      ],
      "execution_count": 0,
      "outputs": [
        {
          "output_type": "stream",
          "text": [
            "100\n"
          ],
          "name": "stdout"
        },
        {
          "output_type": "stream",
          "text": [
            "/usr/local/lib/python3.6/dist-packages/ipykernel_launcher.py:8: SettingWithCopyWarning: \n",
            "A value is trying to be set on a copy of a slice from a DataFrame.\n",
            "Try using .loc[row_indexer,col_indexer] = value instead\n",
            "\n",
            "See the caveats in the documentation: http://pandas.pydata.org/pandas-docs/stable/indexing.html#indexing-view-versus-copy\n",
            "  \n"
          ],
          "name": "stderr"
        },
        {
          "output_type": "execute_result",
          "data": {
            "text/html": [
              "<div>\n",
              "<style scoped>\n",
              "    .dataframe tbody tr th:only-of-type {\n",
              "        vertical-align: middle;\n",
              "    }\n",
              "\n",
              "    .dataframe tbody tr th {\n",
              "        vertical-align: top;\n",
              "    }\n",
              "\n",
              "    .dataframe thead th {\n",
              "        text-align: right;\n",
              "    }\n",
              "</style>\n",
              "<table border=\"1\" class=\"dataframe\">\n",
              "  <thead>\n",
              "    <tr style=\"text-align: right;\">\n",
              "      <th></th>\n",
              "      <th>type</th>\n",
              "      <th>fixed acidity</th>\n",
              "      <th>volatile acidity</th>\n",
              "      <th>citric acid</th>\n",
              "      <th>residual sugar</th>\n",
              "      <th>chlorides</th>\n",
              "      <th>free sulfur dioxide</th>\n",
              "      <th>total sulfur dioxide</th>\n",
              "      <th>density</th>\n",
              "      <th>pH</th>\n",
              "      <th>sulphates</th>\n",
              "      <th>alcohol</th>\n",
              "      <th>quality</th>\n",
              "      <th>points</th>\n",
              "    </tr>\n",
              "  </thead>\n",
              "  <tbody>\n",
              "    <tr>\n",
              "      <th>0</th>\n",
              "      <td>white</td>\n",
              "      <td>7.0</td>\n",
              "      <td>0.27</td>\n",
              "      <td>0.36</td>\n",
              "      <td>20.7</td>\n",
              "      <td>0.045</td>\n",
              "      <td>45.0</td>\n",
              "      <td>170.0</td>\n",
              "      <td>1.0010</td>\n",
              "      <td>3.00</td>\n",
              "      <td>0.45</td>\n",
              "      <td>8.8</td>\n",
              "      <td>6</td>\n",
              "      <td>90.0</td>\n",
              "    </tr>\n",
              "    <tr>\n",
              "      <th>1</th>\n",
              "      <td>white</td>\n",
              "      <td>6.3</td>\n",
              "      <td>0.30</td>\n",
              "      <td>0.34</td>\n",
              "      <td>1.6</td>\n",
              "      <td>0.049</td>\n",
              "      <td>14.0</td>\n",
              "      <td>132.0</td>\n",
              "      <td>0.9940</td>\n",
              "      <td>3.30</td>\n",
              "      <td>0.49</td>\n",
              "      <td>9.5</td>\n",
              "      <td>6</td>\n",
              "      <td>90.0</td>\n",
              "    </tr>\n",
              "    <tr>\n",
              "      <th>2</th>\n",
              "      <td>white</td>\n",
              "      <td>8.1</td>\n",
              "      <td>0.28</td>\n",
              "      <td>0.40</td>\n",
              "      <td>6.9</td>\n",
              "      <td>0.050</td>\n",
              "      <td>30.0</td>\n",
              "      <td>97.0</td>\n",
              "      <td>0.9951</td>\n",
              "      <td>3.26</td>\n",
              "      <td>0.44</td>\n",
              "      <td>10.1</td>\n",
              "      <td>6</td>\n",
              "      <td>90.0</td>\n",
              "    </tr>\n",
              "    <tr>\n",
              "      <th>3</th>\n",
              "      <td>white</td>\n",
              "      <td>7.2</td>\n",
              "      <td>0.23</td>\n",
              "      <td>0.32</td>\n",
              "      <td>8.5</td>\n",
              "      <td>0.058</td>\n",
              "      <td>47.0</td>\n",
              "      <td>186.0</td>\n",
              "      <td>0.9956</td>\n",
              "      <td>3.19</td>\n",
              "      <td>0.40</td>\n",
              "      <td>9.9</td>\n",
              "      <td>6</td>\n",
              "      <td>90.0</td>\n",
              "    </tr>\n",
              "    <tr>\n",
              "      <th>4</th>\n",
              "      <td>white</td>\n",
              "      <td>7.2</td>\n",
              "      <td>0.23</td>\n",
              "      <td>0.32</td>\n",
              "      <td>8.5</td>\n",
              "      <td>0.058</td>\n",
              "      <td>47.0</td>\n",
              "      <td>186.0</td>\n",
              "      <td>0.9956</td>\n",
              "      <td>3.19</td>\n",
              "      <td>0.40</td>\n",
              "      <td>9.9</td>\n",
              "      <td>6</td>\n",
              "      <td>90.0</td>\n",
              "    </tr>\n",
              "  </tbody>\n",
              "</table>\n",
              "</div>"
            ],
            "text/plain": [
              "    type  fixed acidity  volatile acidity  ...  alcohol  quality  points\n",
              "0  white            7.0              0.27  ...      8.8        6    90.0\n",
              "1  white            6.3              0.30  ...      9.5        6    90.0\n",
              "2  white            8.1              0.28  ...     10.1        6    90.0\n",
              "3  white            7.2              0.23  ...      9.9        6    90.0\n",
              "4  white            7.2              0.23  ...      9.9        6    90.0\n",
              "\n",
              "[5 rows x 14 columns]"
            ]
          },
          "metadata": {
            "tags": []
          },
          "execution_count": 7
        }
      ]
    },
    {
      "cell_type": "code",
      "metadata": {
        "id": "JXFYJkrm2hYo",
        "colab_type": "code",
        "outputId": "198bc807-49c7-43ad-bf7c-f52278196ea4",
        "colab": {
          "base_uri": "https://localhost:8080/",
          "height": 342
        }
      },
      "source": [
        "#for red wine\n",
        "old_min = red_wine['quality'].min()\n",
        "old_max = red_wine['quality'].max()\n",
        "\n",
        "red_wine['points'] = (((red_wine['quality'] - old_min) * (new_max - new_min)) / (old_max - old_min)) + new_min\n",
        "red_wine.head()"
      ],
      "execution_count": 0,
      "outputs": [
        {
          "output_type": "stream",
          "text": [
            "/usr/local/lib/python3.6/dist-packages/ipykernel_launcher.py:4: SettingWithCopyWarning: \n",
            "A value is trying to be set on a copy of a slice from a DataFrame.\n",
            "Try using .loc[row_indexer,col_indexer] = value instead\n",
            "\n",
            "See the caveats in the documentation: http://pandas.pydata.org/pandas-docs/stable/indexing.html#indexing-view-versus-copy\n",
            "  after removing the cwd from sys.path.\n"
          ],
          "name": "stderr"
        },
        {
          "output_type": "execute_result",
          "data": {
            "text/html": [
              "<div>\n",
              "<style scoped>\n",
              "    .dataframe tbody tr th:only-of-type {\n",
              "        vertical-align: middle;\n",
              "    }\n",
              "\n",
              "    .dataframe tbody tr th {\n",
              "        vertical-align: top;\n",
              "    }\n",
              "\n",
              "    .dataframe thead th {\n",
              "        text-align: right;\n",
              "    }\n",
              "</style>\n",
              "<table border=\"1\" class=\"dataframe\">\n",
              "  <thead>\n",
              "    <tr style=\"text-align: right;\">\n",
              "      <th></th>\n",
              "      <th>type</th>\n",
              "      <th>fixed acidity</th>\n",
              "      <th>volatile acidity</th>\n",
              "      <th>citric acid</th>\n",
              "      <th>residual sugar</th>\n",
              "      <th>chlorides</th>\n",
              "      <th>free sulfur dioxide</th>\n",
              "      <th>total sulfur dioxide</th>\n",
              "      <th>density</th>\n",
              "      <th>pH</th>\n",
              "      <th>sulphates</th>\n",
              "      <th>alcohol</th>\n",
              "      <th>quality</th>\n",
              "      <th>points</th>\n",
              "    </tr>\n",
              "  </thead>\n",
              "  <tbody>\n",
              "    <tr>\n",
              "      <th>4898</th>\n",
              "      <td>red</td>\n",
              "      <td>7.4</td>\n",
              "      <td>0.70</td>\n",
              "      <td>0.00</td>\n",
              "      <td>1.9</td>\n",
              "      <td>0.076</td>\n",
              "      <td>11.0</td>\n",
              "      <td>34.0</td>\n",
              "      <td>0.9978</td>\n",
              "      <td>3.51</td>\n",
              "      <td>0.56</td>\n",
              "      <td>9.4</td>\n",
              "      <td>5</td>\n",
              "      <td>88.0</td>\n",
              "    </tr>\n",
              "    <tr>\n",
              "      <th>4899</th>\n",
              "      <td>red</td>\n",
              "      <td>7.8</td>\n",
              "      <td>0.88</td>\n",
              "      <td>0.00</td>\n",
              "      <td>2.6</td>\n",
              "      <td>0.098</td>\n",
              "      <td>25.0</td>\n",
              "      <td>67.0</td>\n",
              "      <td>0.9968</td>\n",
              "      <td>3.20</td>\n",
              "      <td>0.68</td>\n",
              "      <td>9.8</td>\n",
              "      <td>5</td>\n",
              "      <td>88.0</td>\n",
              "    </tr>\n",
              "    <tr>\n",
              "      <th>4900</th>\n",
              "      <td>red</td>\n",
              "      <td>7.8</td>\n",
              "      <td>0.76</td>\n",
              "      <td>0.04</td>\n",
              "      <td>2.3</td>\n",
              "      <td>0.092</td>\n",
              "      <td>15.0</td>\n",
              "      <td>54.0</td>\n",
              "      <td>0.9970</td>\n",
              "      <td>3.26</td>\n",
              "      <td>0.65</td>\n",
              "      <td>9.8</td>\n",
              "      <td>5</td>\n",
              "      <td>88.0</td>\n",
              "    </tr>\n",
              "    <tr>\n",
              "      <th>4901</th>\n",
              "      <td>red</td>\n",
              "      <td>11.2</td>\n",
              "      <td>0.28</td>\n",
              "      <td>0.56</td>\n",
              "      <td>1.9</td>\n",
              "      <td>0.075</td>\n",
              "      <td>17.0</td>\n",
              "      <td>60.0</td>\n",
              "      <td>0.9980</td>\n",
              "      <td>3.16</td>\n",
              "      <td>0.58</td>\n",
              "      <td>9.8</td>\n",
              "      <td>6</td>\n",
              "      <td>92.0</td>\n",
              "    </tr>\n",
              "    <tr>\n",
              "      <th>4902</th>\n",
              "      <td>red</td>\n",
              "      <td>7.4</td>\n",
              "      <td>0.70</td>\n",
              "      <td>0.00</td>\n",
              "      <td>1.9</td>\n",
              "      <td>0.076</td>\n",
              "      <td>11.0</td>\n",
              "      <td>34.0</td>\n",
              "      <td>0.9978</td>\n",
              "      <td>3.51</td>\n",
              "      <td>0.56</td>\n",
              "      <td>9.4</td>\n",
              "      <td>5</td>\n",
              "      <td>88.0</td>\n",
              "    </tr>\n",
              "  </tbody>\n",
              "</table>\n",
              "</div>"
            ],
            "text/plain": [
              "     type  fixed acidity  volatile acidity  ...  alcohol  quality  points\n",
              "4898  red            7.4              0.70  ...      9.4        5    88.0\n",
              "4899  red            7.8              0.88  ...      9.8        5    88.0\n",
              "4900  red            7.8              0.76  ...      9.8        5    88.0\n",
              "4901  red           11.2              0.28  ...      9.8        6    92.0\n",
              "4902  red            7.4              0.70  ...      9.4        5    88.0\n",
              "\n",
              "[5 rows x 14 columns]"
            ]
          },
          "metadata": {
            "tags": []
          },
          "execution_count": 8
        }
      ]
    },
    {
      "cell_type": "markdown",
      "metadata": {
        "id": "qnrmDQHYVt1k",
        "colab_type": "text"
      },
      "source": [
        "# Analysis of wine reviews datasets"
      ]
    },
    {
      "cell_type": "markdown",
      "metadata": {
        "id": "XFdJ8Azg6GCs",
        "colab_type": "text"
      },
      "source": [
        "The wine reviews are seperated into two different csv files. "
      ]
    },
    {
      "cell_type": "code",
      "metadata": {
        "id": "2SVKPpSr7JyG",
        "colab_type": "code",
        "outputId": "788ebd18-3063-4199-ce51-d1f85f4469bd",
        "colab": {
          "base_uri": "https://localhost:8080/",
          "height": 74
        }
      },
      "source": [
        "uniq_variety1 = sensory1['variety'].unique()\n",
        "uniq_vriety2 = sensory2['variety'].unique()\n",
        "common_variety = list(set(uniq_variety1).intersection(uniq_vriety2))\n",
        "print('Common and unique varieties in both csv are: ',common_variety)\n",
        "print('Number of varieties :',len(common_variety))"
      ],
      "execution_count": 0,
      "outputs": [
        {
          "output_type": "stream",
          "text": [
            "Common and unique varieties in both csv are:  ['Loureiro', 'Port', 'Tinta de Toro', 'Weissburgunder', 'Red Blend', 'Raboso', 'Chardonnay Weissburgunder', 'Neuburger', 'Schwartzriesling', 'Tinta Roriz', 'Pinot Blanc', 'Cariñena-Garnacha', 'Rivaner', 'Rolle', 'Chenin Blanc-Viognier', 'Roussanne-Viognier', 'Grenache-Carignan', 'Mantonico', 'Pinot Nero', 'Madeleine Angevine', 'Aidani', 'Symphony', 'Früburgunder', 'Sauvignon Blanc', 'Pansa Blanca', 'Cabernet-Syrah', 'Torrontés', 'Trousseau Gris', 'Rkatsiteli', 'Moscato Giallo', 'Merlot', 'País', 'Sauvignon Blanc-Verdejo', 'Pugnitello', 'Shiraz-Viognier', 'Cabernet Blend', 'Casavecchia', 'Mansois', 'Carignan-Syrah', 'Mandilaria', 'Carineña', 'Elbling', 'Nosiola', 'Colombard-Sauvignon Blanc', 'Airen', 'G-S-M', 'Zibibbo', 'Petit Meslier', 'Furmint', 'Malvasia', 'Schiava', 'Gamay Noir', 'Ugni Blanc-Colombard', 'Braucol', 'Bordeaux-style Red Blend', 'Xinisteri', 'Insolia', 'Barbera', 'Tempranillo-Cabernet Sauvignon', 'Asprinio', 'Auxerrois', 'Valdiguié', 'Xinomavro', 'Bobal', 'Jacquère', 'Chinuri', 'Garnacha Blend', 'Tocai Friulano', 'Monastrell-Syrah', 'Rosado', 'Malbec-Merlot', 'Touriga Nacional', 'Brachetto', 'Muscat Blanc', 'Carmenère', 'Fernão Pires', 'Malbec-Bonarda', 'Ugni Blanc', 'Lambrusco di Sorbara', 'Marsanne-Roussanne', 'Palomino', 'Verdelho', 'Malvar', 'Listán Negro', 'Incrocio Manzoni', 'Roter Veltliner', 'Bual', 'Viura-Verdejo', 'Muscadelle', 'Merlot-Grenache', 'Roviello', 'Shiraz', 'Albana', 'Códega do Larinho', 'Pedro Ximénez', 'Chardonnay-Viognier', 'Monica', 'Aragonês', 'Chambourcin', 'Zlahtina', 'Lambrusco Grasparossa', 'Mazuelo', 'Tinta Fina', 'Edelzwicker', 'Muskat', 'Verdejo-Viura', 'Cabernet Franc-Carmenère', 'Garnacha', 'Jaen', 'Merlot-Syrah', 'Picolit', 'Mavrodaphne', 'Chardonnay-Sauvignon', 'Chardonnay-Sauvignon Blanc', 'Turbiana', 'Provence white blend', 'Malvasia Bianca', 'Sangiovese', 'Tempranillo-Malbec', 'Cabernet Sauvignon-Carmenère', 'Avesso', 'Tannat-Cabernet', 'Nerello Cappuccio', \"Cesanese d'Affile\", 'Altesse', 'Cinsault', 'Merlot-Argaman', 'Manzoni', 'Lemberger', 'Cabernet Franc-Merlot', 'Syrah-Malbec', 'Scheurebe', 'Shiraz-Grenache', 'Maturana', 'Inzolia', 'Grenache-Syrah', 'Fiano', 'Tempranillo-Shiraz', 'Greco', 'Alicante Bouschet', 'Merlot-Shiraz', 'Vinhão', 'Verdejo', 'Cabernet Sauvignon-Tempranillo', 'Emir', 'Gewürztraminer-Riesling', 'Moscadello', 'Cabernet Sauvignon-Merlot-Shiraz', 'Roussanne-Marsanne', 'Garnacha-Tempranillo', 'Argaman', 'Trepat', 'Pallagrello Bianco', 'Colombard', 'Rhône-style White Blend', 'Sauvignon Gris', 'Malvasia Istriana', 'Vranec', 'Pinot-Chardonnay', 'Carignan-Grenache', 'Rabigato', 'Negrette', 'Mavrotragano', 'Feteascǎ Regalǎ', 'Muscatel', 'Malagousia', 'Azal', 'Moscato', 'Perricone', 'Riesling', 'Macabeo-Chardonnay', 'Sauvignon Blanc-Sauvignon Gris', 'Mtsvane', 'Zierfandler', 'Saperavi', 'Alvarelhão', 'Portuguese Sparkling', 'Sacy', 'Welschriesling', 'Chenin Blanc', 'Viognier-Grenache Blanc', 'Grenache Blanc', 'White Riesling', 'Macabeo', 'Seyval Blanc', 'Sämling', 'Syrah-Viognier', 'Tamjanika', 'Melon', 'Nebbiolo', 'Ciliegiolo', 'Chardonel', 'Bical', 'Roditis', 'Savagnin', 'Malbec', 'Malbec Blend', 'Baga-Touriga Nacional', 'Tinta Francisca', 'Nerello Mascalese', 'Grenache', 'Tannat-Cabernet Franc', 'Groppello', 'Portuguese Red', 'Glera', 'Sauvignon Blanc-Chardonnay', 'Silvaner-Traminer', 'Cabernet Moravia', 'Tempranillo', 'Refosco', 'Garnacha-Syrah', 'Coda di Volpe', 'Verdejo-Sauvignon Blanc', 'Syrah-Tempranillo', 'Ribolla Gialla', 'Tokay', 'Touriga Nacional Blend', 'Macabeo-Moscatel', 'Grolleau', 'Rufete', 'Bovale', 'Mavrud', 'Alvarinho-Chardonnay', 'Touriga Nacional-Cabernet Sauvignon', 'Morio Muskat', 'Petite Verdot', 'Bonarda', 'Teroldego', 'Syrah-Merlot', 'Syrah', 'Sagrantino', 'Veltliner', 'Pinot Meunier', 'Tannat-Syrah', 'Sousão', 'Gros and Petit Manseng', 'Black Monukka', 'Merlot-Cabernet', 'Zelen', 'Pinot Gris', 'Counoise', 'Alsace white blend', 'Aligoté', 'Chenin Blanc-Chardonnay', 'Marsanne', 'Moscatel Graúdo', 'Godello', 'Prosecco', 'Friulano', 'Rosato', 'Sylvaner', 'Traminette', 'Vidal Blanc', 'Portuguiser', 'Roussanne', 'Grenache Blend', 'Vermentino', 'Hondarrabi Zuri', 'Sangiovese-Cabernet Sauvignon', 'Syrah-Mourvèdre', 'Pinotage-Merlot', 'Gewürztraminer', 'Grauburgunder', 'Muskat Ottonel', 'Kekfrankos', 'Zinfandel', 'Mencía', 'Freisa', 'Trincadeira', 'Teroldego Rotaliano', 'Teran', 'Syrah-Grenache', 'Austrian white blend', 'White Blend', 'Syrah-Grenache-Viognier', 'Merlot-Cabernet Sauvignon', 'Tannat', 'Syrah-Cabernet', 'Austrian Red Blend', 'Touriga Franca', 'Vignoles', 'Castelão', 'Merlot-Cabernet Franc', 'Tinta Barroca', 'Romorantin', 'Debit', 'Alvarinho', 'Sparkling Blend', 'Pinot Auxerrois', 'Lambrusco', 'Roter Traminer', 'Cabernet Sauvignon Grenache', 'Madeira Blend', 'St. Laurent', 'Blauer Portugieser', 'Viognier-Chardonnay', 'Spätburgunder', 'Sauvignon Blanc-Chenin Blanc', 'Rebula', 'Passerina', 'Traminer', 'Mourvèdre', 'Okuzgozu', 'Nuragus', 'Cannonau', 'Doña Blanca', 'Chenin Blanc-Sauvignon Blanc', 'Gragnano', 'Bordeaux-style White Blend', 'Orangetraube', 'Blaufränkisch', 'Malbec-Tannat', 'Corvina, Rondinella, Molinara', 'Provence red blend', 'Karasakiz', 'Shiraz-Cabernet Sauvignon', 'Champagne Blend', 'Fumé Blanc', 'Tokaji', 'Prugnolo Gentile', 'Alicante', 'Gouveio', 'Pinot Blanc-Pinot Noir', 'Kerner', 'Nielluciu', 'Black Muscat', 'Garganega', 'Colombard-Ugni Blanc', 'Pinot Bianco', 'Sangiovese Cabernet', 'Viura', 'Moscatel de Alejandría', 'Sauvignonasse', 'Antão Vaz', 'Tinto del Pais', 'Xynisteri', 'Frappato', 'Bastardo', 'Pallagrello', 'Zweigelt', 'Malbec-Cabernet Sauvignon', 'Aleatico', 'Carmenère-Syrah', 'Arinto', 'Alfrocheiro', 'Baga', 'Malbec-Cabernet Franc', 'Malbec-Petit Verdot', 'Cabernet Sauvignon', 'Carignano', 'Aglianico', 'Vitovska', 'Trebbiano di Lugana', 'Chasselas', 'Albariño', 'Carignane', 'Shiraz-Malbec', 'Viognier-Marsanne', 'White Port', 'Greco Bianco', 'Claret', 'Grecanico', 'Malvasia Nera', 'Saperavi-Merlot', 'Graciano', 'Trebbiano', 'Muscat of Alexandria', 'Gros Manseng', 'Silvaner', 'Meritage', 'Garnacha Tintorera', 'Charbono', 'Hárslevelü', 'Picpoul', 'Sauvignon Blanc-Semillon', 'Vidadillo', 'Tocai', 'Xarel-lo', 'Portuguese White', 'Narince', 'Moscatel Roxo', 'Magliocco', 'Morava', 'Mauzac', 'Cabernet Sauvignon-Cabernet Franc', 'Vespaiolo', 'Susumaniello', 'Siria', 'Carmenère-Cabernet Sauvignon', 'Primitivo', 'Tinto Fino', 'Piedirosso', 'Petite Sirah', 'Muscat', 'Torbato', 'Norton', 'Tannat-Merlot', 'Encruzado', 'Forcallà', 'Cabernet Sauvignon-Shiraz', 'Grenache-Mourvèdre', 'Cococciola', 'Gelber Muskateller', 'Cortese', 'Robola', 'Monastrell', 'Yapincak', 'Falanghina', 'Vernaccia', 'Viognier', 'Rosé', 'Cabernet Sauvignon-Merlot', 'Vilana', 'Grenache-Shiraz', 'Pinot Blanc-Chardonnay', 'Carricante', 'Bombino Bianco', 'Erbaluce', 'Savatiano', 'Pinot Grigio', 'Cabernet Sauvignon-Syrah', 'Tempranillo Blend', 'Syrah-Petite Sirah', 'Grignolino', 'Zierfandler-Rotgipfler', 'Merlot-Malbec', 'Verduzzo Friulano ', 'Sémillon', 'Assyrtiko', 'Jacquez', 'Garnacha-Monastrell', \"Loin de l'Oeil\", 'Pinot Noir-Syrah', 'Johannisberg Riesling', 'Morillon', 'Petit Manseng', 'Cabernet Sauvignon-Malbec', 'Plavac Mali', 'Mavroudi', 'Pinotage', 'Malagouzia', \"Muscat d'Alexandrie\", 'Verdicchio', 'Kadarka', 'Tempranillo Blanco', 'Pallagrello Nero', 'Semillon-Chardonnay', 'Kinali Yapincak', 'Malbec-Syrah', 'Catarratto', 'Chardonnay-Semillon', 'Assyrtico', 'Žilavka', 'Gaglioppo', 'Sauvignon', 'Pecorino', 'Prié Blanc', 'Dolcetto', 'Baco Noir', 'Verdeca', 'Ruché', 'Cabernet Pfeffer', 'Petit Verdot', 'Siegerrebe', 'Tempranillo-Garnacha', 'Sideritis', 'Feteasca Neagra', 'Lagrein', 'Malvasia-Viura', 'Negroamaro', 'Moscatel', 'Uva di Troia', 'Cabernet Franc-Cabernet Sauvignon', 'Mission', 'Cabernet', 'Cerceal', 'Chardonnay-Pinot Blanc', 'Rieslaner', 'Semillon-Sauvignon Blanc', 'Gamay', 'Pinot Noir', 'Syrah-Cabernet Franc', 'Grechetto', 'Grüner Veltliner', 'Rotgipfler', 'Cabernet Sauvignon-Sangiovese', 'Cabernet Franc', 'Marzemino', 'Sangiovese-Syrah', 'Muscat Canelli', 'Moschofilero', 'Orange Muscat', 'Muskateller', 'Tempranillo-Merlot', 'Pigato', 'Sangiovese Grosso', 'Cabernet Franc-Malbec', 'Albarossa', 'Aragonez', 'Müller-Thurgau', 'Pignoletto', 'Kalecik Karasi', 'Mondeuse', \"Nero d'Avola\", 'Marsanne-Viognier', 'Montepulciano', 'Syrah-Cabernet Sauvignon', 'Sherry', 'Prieto Picudo', 'Cabernet-Shiraz', 'Dornfelder', 'Viura-Chardonnay', 'Syrah-Carignan', 'Arneis', 'Cabernet Merlot', 'Duras', 'Chardonnay', 'Garnacha Blanca', 'Agiorgitiko', 'Portuguese Rosé', 'Corvina', 'Verduzzo', 'Fer Servadou', 'Pinot Noir-Gamay', 'Mataro', 'Nero di Troia', 'Grillo', 'Carignan', 'Posip', 'Rhône-style Red Blend', 'Blauburgunder', 'Vidal', 'Viognier-Roussanne']\n",
            "Number of varieties : 533\n"
          ],
          "name": "stdout"
        }
      ]
    },
    {
      "cell_type": "markdown",
      "metadata": {
        "id": "y0xA6E7M7G_Q",
        "colab_type": "text"
      },
      "source": [
        "Since we have many varieties of wine in each of the five categories and we have datasets only for white and red wine, we will consider only the varieties of white and red wines."
      ]
    },
    {
      "cell_type": "code",
      "metadata": {
        "id": "or61EjTI62Pi",
        "colab_type": "code",
        "outputId": "ad37e2c1-cc33-4877-d2b0-1beaeabe983c",
        "colab": {
          "base_uri": "https://localhost:8080/",
          "height": 54
        }
      },
      "source": [
        "white_varieties = ['Aligoté','Alvarinho', 'Auxerrois', 'Bacchus','Bual','Chardonnay','Chasselas','Chenin','Blanc','Colombard','Emerald','Riesling','Fumé','Blanc','Folle','Blanche','Furmint','Gewürztraminer','Grüner Veltliner','Hárslevelü','Jacquère','Kerner','Malvasia','Marsanne','Morio-Muscat','Müller-Thurgau','Muscadelle','Muscadet','Moscato','Palomino','Pedro Ximenez','Picolit','Pinot Blanc','Pinot Gris','Riesling','Rkatsiteli','Sacy','Savagnin','Sauvignon Blanc','Scheurebe','Sémillon','Sercial','Seyval Blan','Silvaner','Trebbiano','Verdelho','Verdicchio','Vidal','Viognier','Viura','Welschriesling']\n",
        "red_varieties = ['Aglianico','Alicante','Baco','Noir','Barbera','Cabernet Franc','Cabernet Sauvignon','Carignan','Cinsault','de Chaunac','Dolcetto','Freisa','Gamay','Gamay Beaujolais','Grenache','Grignolino','Kadarka','Lambrusco','Malbec','Maréchal Foch','Merlot','Mourvèdre','Nebbiolo','Petite Sirah','Pinot Noir','Pinot','Meunier','Pinotae','primitivo','Ruby Cabernet','Sangiovese','Syrah','Tempranillo,''Touriga Naçional','Xynomavro','Zinfandel']\n",
        "print('Number of white wine varieties considered: ', len(white_varieties))\n",
        "print('Number of red wine varieties considered: ', len(red_varieties))"
      ],
      "execution_count": 0,
      "outputs": [
        {
          "output_type": "stream",
          "text": [
            "Number of white wine varieties considered:  51\n",
            "Number of red wine varieties considered:  35\n"
          ],
          "name": "stdout"
        }
      ]
    },
    {
      "cell_type": "markdown",
      "metadata": {
        "id": "mhS7U4ps79o6",
        "colab_type": "text"
      },
      "source": [
        "Abstracting only those varieties: ( since some rows have no price and also price is an important attribute, we ignore those rows)"
      ]
    },
    {
      "cell_type": "code",
      "metadata": {
        "id": "hNyJkcTq8DCy",
        "colab_type": "code",
        "outputId": "985804ba-b96f-4d48-8606-0b35f5840cb6",
        "colab": {
          "base_uri": "https://localhost:8080/",
          "height": 582
        }
      },
      "source": [
        "white = pd.concat([sensory1[sensory1['variety'].isin(white_varieties)] ,sensory2[sensory2['variety'].isin(white_varieties)]],sort=False)\n",
        "white = white[np.isfinite(white['price'])]\n",
        "print('shape of the white wine: ', white.shape)\n",
        "white.head()"
      ],
      "execution_count": 0,
      "outputs": [
        {
          "output_type": "stream",
          "text": [
            "shape of the white wine:  (37704, 14)\n"
          ],
          "name": "stdout"
        },
        {
          "output_type": "execute_result",
          "data": {
            "text/html": [
              "<div>\n",
              "<style scoped>\n",
              "    .dataframe tbody tr th:only-of-type {\n",
              "        vertical-align: middle;\n",
              "    }\n",
              "\n",
              "    .dataframe tbody tr th {\n",
              "        vertical-align: top;\n",
              "    }\n",
              "\n",
              "    .dataframe thead th {\n",
              "        text-align: right;\n",
              "    }\n",
              "</style>\n",
              "<table border=\"1\" class=\"dataframe\">\n",
              "  <thead>\n",
              "    <tr style=\"text-align: right;\">\n",
              "      <th></th>\n",
              "      <th>Unnamed: 0</th>\n",
              "      <th>country</th>\n",
              "      <th>description</th>\n",
              "      <th>designation</th>\n",
              "      <th>points</th>\n",
              "      <th>price</th>\n",
              "      <th>province</th>\n",
              "      <th>region_1</th>\n",
              "      <th>region_2</th>\n",
              "      <th>variety</th>\n",
              "      <th>winery</th>\n",
              "      <th>taster_name</th>\n",
              "      <th>taster_twitter_handle</th>\n",
              "      <th>title</th>\n",
              "    </tr>\n",
              "  </thead>\n",
              "  <tbody>\n",
              "    <tr>\n",
              "      <th>2</th>\n",
              "      <td>2</td>\n",
              "      <td>US</td>\n",
              "      <td>Mac Watson honors the memory of a wine once ma...</td>\n",
              "      <td>Special Selected Late Harvest</td>\n",
              "      <td>96</td>\n",
              "      <td>90.0</td>\n",
              "      <td>California</td>\n",
              "      <td>Knights Valley</td>\n",
              "      <td>Sonoma</td>\n",
              "      <td>Sauvignon Blanc</td>\n",
              "      <td>Macauley</td>\n",
              "      <td>NaN</td>\n",
              "      <td>NaN</td>\n",
              "      <td>NaN</td>\n",
              "    </tr>\n",
              "    <tr>\n",
              "      <th>15</th>\n",
              "      <td>15</td>\n",
              "      <td>US</td>\n",
              "      <td>First made in 2006, this succulent luscious Ch...</td>\n",
              "      <td>Sigrid</td>\n",
              "      <td>95</td>\n",
              "      <td>90.0</td>\n",
              "      <td>Oregon</td>\n",
              "      <td>Willamette Valley</td>\n",
              "      <td>Willamette Valley</td>\n",
              "      <td>Chardonnay</td>\n",
              "      <td>Bergström</td>\n",
              "      <td>NaN</td>\n",
              "      <td>NaN</td>\n",
              "      <td>NaN</td>\n",
              "    </tr>\n",
              "    <tr>\n",
              "      <th>23</th>\n",
              "      <td>23</td>\n",
              "      <td>US</td>\n",
              "      <td>The apogee of this ambitious winery's white wi...</td>\n",
              "      <td>Giallo Solare</td>\n",
              "      <td>95</td>\n",
              "      <td>60.0</td>\n",
              "      <td>California</td>\n",
              "      <td>Edna Valley</td>\n",
              "      <td>Central Coast</td>\n",
              "      <td>Chardonnay</td>\n",
              "      <td>Center of Effort</td>\n",
              "      <td>NaN</td>\n",
              "      <td>NaN</td>\n",
              "      <td>NaN</td>\n",
              "    </tr>\n",
              "    <tr>\n",
              "      <th>25</th>\n",
              "      <td>25</td>\n",
              "      <td>New Zealand</td>\n",
              "      <td>Yields were down in 2015, but intensity is up,...</td>\n",
              "      <td>Maté's Vineyard</td>\n",
              "      <td>94</td>\n",
              "      <td>57.0</td>\n",
              "      <td>Kumeu</td>\n",
              "      <td>NaN</td>\n",
              "      <td>NaN</td>\n",
              "      <td>Chardonnay</td>\n",
              "      <td>Kumeu River</td>\n",
              "      <td>NaN</td>\n",
              "      <td>NaN</td>\n",
              "      <td>NaN</td>\n",
              "    </tr>\n",
              "    <tr>\n",
              "      <th>31</th>\n",
              "      <td>31</td>\n",
              "      <td>US</td>\n",
              "      <td>Steely and perfumed, this wine sees only 20% n...</td>\n",
              "      <td>Babushka</td>\n",
              "      <td>90</td>\n",
              "      <td>37.0</td>\n",
              "      <td>California</td>\n",
              "      <td>Russian River Valley</td>\n",
              "      <td>Sonoma</td>\n",
              "      <td>Chardonnay</td>\n",
              "      <td>Zepaltas</td>\n",
              "      <td>NaN</td>\n",
              "      <td>NaN</td>\n",
              "      <td>NaN</td>\n",
              "    </tr>\n",
              "  </tbody>\n",
              "</table>\n",
              "</div>"
            ],
            "text/plain": [
              "    Unnamed: 0      country  ... taster_twitter_handle title\n",
              "2            2           US  ...                   NaN   NaN\n",
              "15          15           US  ...                   NaN   NaN\n",
              "23          23           US  ...                   NaN   NaN\n",
              "25          25  New Zealand  ...                   NaN   NaN\n",
              "31          31           US  ...                   NaN   NaN\n",
              "\n",
              "[5 rows x 14 columns]"
            ]
          },
          "metadata": {
            "tags": []
          },
          "execution_count": 11
        }
      ]
    },
    {
      "cell_type": "code",
      "metadata": {
        "id": "1KJYRMLI8xtG",
        "colab_type": "code",
        "outputId": "9c1cc936-6bd9-485b-8d9b-a509798cad80",
        "colab": {
          "base_uri": "https://localhost:8080/",
          "height": 582
        }
      },
      "source": [
        "\n",
        "red = pd.concat([sensory1[sensory1['variety'].isin(red_varieties)],sensory2[sensory2['variety'].isin(red_varieties)]],sort=False)\n",
        "red = red[np.isfinite(red['price'])]\n",
        "print('shape of the red wine: ', red.shape)\n",
        "red.head()"
      ],
      "execution_count": 0,
      "outputs": [
        {
          "output_type": "stream",
          "text": [
            "shape of the red wine:  (63138, 14)\n"
          ],
          "name": "stdout"
        },
        {
          "output_type": "execute_result",
          "data": {
            "text/html": [
              "<div>\n",
              "<style scoped>\n",
              "    .dataframe tbody tr th:only-of-type {\n",
              "        vertical-align: middle;\n",
              "    }\n",
              "\n",
              "    .dataframe tbody tr th {\n",
              "        vertical-align: top;\n",
              "    }\n",
              "\n",
              "    .dataframe thead th {\n",
              "        text-align: right;\n",
              "    }\n",
              "</style>\n",
              "<table border=\"1\" class=\"dataframe\">\n",
              "  <thead>\n",
              "    <tr style=\"text-align: right;\">\n",
              "      <th></th>\n",
              "      <th>Unnamed: 0</th>\n",
              "      <th>country</th>\n",
              "      <th>description</th>\n",
              "      <th>designation</th>\n",
              "      <th>points</th>\n",
              "      <th>price</th>\n",
              "      <th>province</th>\n",
              "      <th>region_1</th>\n",
              "      <th>region_2</th>\n",
              "      <th>variety</th>\n",
              "      <th>winery</th>\n",
              "      <th>taster_name</th>\n",
              "      <th>taster_twitter_handle</th>\n",
              "      <th>title</th>\n",
              "    </tr>\n",
              "  </thead>\n",
              "  <tbody>\n",
              "    <tr>\n",
              "      <th>0</th>\n",
              "      <td>0</td>\n",
              "      <td>US</td>\n",
              "      <td>This tremendous 100% varietal wine hails from ...</td>\n",
              "      <td>Martha's Vineyard</td>\n",
              "      <td>96</td>\n",
              "      <td>235.0</td>\n",
              "      <td>California</td>\n",
              "      <td>Napa Valley</td>\n",
              "      <td>Napa</td>\n",
              "      <td>Cabernet Sauvignon</td>\n",
              "      <td>Heitz</td>\n",
              "      <td>NaN</td>\n",
              "      <td>NaN</td>\n",
              "      <td>NaN</td>\n",
              "    </tr>\n",
              "    <tr>\n",
              "      <th>3</th>\n",
              "      <td>3</td>\n",
              "      <td>US</td>\n",
              "      <td>This spent 20 months in 30% new French oak, an...</td>\n",
              "      <td>Reserve</td>\n",
              "      <td>96</td>\n",
              "      <td>65.0</td>\n",
              "      <td>Oregon</td>\n",
              "      <td>Willamette Valley</td>\n",
              "      <td>Willamette Valley</td>\n",
              "      <td>Pinot Noir</td>\n",
              "      <td>Ponzi</td>\n",
              "      <td>NaN</td>\n",
              "      <td>NaN</td>\n",
              "      <td>NaN</td>\n",
              "    </tr>\n",
              "    <tr>\n",
              "      <th>8</th>\n",
              "      <td>8</td>\n",
              "      <td>US</td>\n",
              "      <td>This re-named vineyard was formerly bottled as...</td>\n",
              "      <td>Silice</td>\n",
              "      <td>95</td>\n",
              "      <td>65.0</td>\n",
              "      <td>Oregon</td>\n",
              "      <td>Chehalem Mountains</td>\n",
              "      <td>Willamette Valley</td>\n",
              "      <td>Pinot Noir</td>\n",
              "      <td>Bergström</td>\n",
              "      <td>NaN</td>\n",
              "      <td>NaN</td>\n",
              "      <td>NaN</td>\n",
              "    </tr>\n",
              "    <tr>\n",
              "      <th>9</th>\n",
              "      <td>9</td>\n",
              "      <td>US</td>\n",
              "      <td>The producer sources from two blocks of the vi...</td>\n",
              "      <td>Gap's Crown Vineyard</td>\n",
              "      <td>95</td>\n",
              "      <td>60.0</td>\n",
              "      <td>California</td>\n",
              "      <td>Sonoma Coast</td>\n",
              "      <td>Sonoma</td>\n",
              "      <td>Pinot Noir</td>\n",
              "      <td>Blue Farm</td>\n",
              "      <td>NaN</td>\n",
              "      <td>NaN</td>\n",
              "      <td>NaN</td>\n",
              "    </tr>\n",
              "    <tr>\n",
              "      <th>11</th>\n",
              "      <td>11</td>\n",
              "      <td>US</td>\n",
              "      <td>From 18-year-old vines, this supple well-balan...</td>\n",
              "      <td>Estate Vineyard Wadensvil Block</td>\n",
              "      <td>95</td>\n",
              "      <td>48.0</td>\n",
              "      <td>Oregon</td>\n",
              "      <td>Ribbon Ridge</td>\n",
              "      <td>Willamette Valley</td>\n",
              "      <td>Pinot Noir</td>\n",
              "      <td>Patricia Green Cellars</td>\n",
              "      <td>NaN</td>\n",
              "      <td>NaN</td>\n",
              "      <td>NaN</td>\n",
              "    </tr>\n",
              "  </tbody>\n",
              "</table>\n",
              "</div>"
            ],
            "text/plain": [
              "    Unnamed: 0 country  ... taster_twitter_handle title\n",
              "0            0      US  ...                   NaN   NaN\n",
              "3            3      US  ...                   NaN   NaN\n",
              "8            8      US  ...                   NaN   NaN\n",
              "9            9      US  ...                   NaN   NaN\n",
              "11          11      US  ...                   NaN   NaN\n",
              "\n",
              "[5 rows x 14 columns]"
            ]
          },
          "metadata": {
            "tags": []
          },
          "execution_count": 12
        }
      ]
    },
    {
      "cell_type": "markdown",
      "metadata": {
        "id": "ZIqJOK2pX955",
        "colab_type": "text"
      },
      "source": [
        "# Predicting the price of the wine based on sensory points"
      ]
    },
    {
      "cell_type": "markdown",
      "metadata": {
        "id": "_pnxiKXw9PQC",
        "colab_type": "text"
      },
      "source": [
        "From the wine reviews data, we can create a model for price against points(sensory points). We use Linear Regression to create the model.\n",
        "\n"
      ]
    },
    {
      "cell_type": "code",
      "metadata": {
        "id": "Qt3wy2ll8eWE",
        "colab_type": "code",
        "outputId": "ed2d09b0-d2ed-4790-8e62-7839983a1dda",
        "colab": {
          "base_uri": "https://localhost:8080/",
          "height": 350
        }
      },
      "source": [
        "from sklearn.linear_model import LinearRegression,LogisticRegression,  BayesianRidge\n",
        "from sklearn.model_selection import train_test_split\n",
        "from sklearn import metrics\n",
        "\n",
        "x = white[['points']]\n",
        "y = white[['price']]\n",
        "\n",
        "x_train,x_test,y_train,y_test = train_test_split(x,y,test_size=0.3)\n",
        "model_price_white = LinearRegression()\n",
        "model_price_white.fit(x_train,y_train)\n",
        "y_pred = model_price_white.predict(x_test)\n",
        "r =metrics.mean_squared_error(y_test,y_pred)\n",
        "print(\"white wine::\")\n",
        "print(\"MEAN SQUARE ERROR: \", r)\n",
        "print(\"ROOT MEAN SQUARE ERROR: \",np.sqrt(r))\n",
        "\n",
        "pit.scatter(x,y)\n",
        "pit.xlabel('quality points')\n",
        "pit.ylabel('price')\n",
        "pit.title('Price determined from Quality points for white wine')\n",
        "pit.show()\n"
      ],
      "execution_count": 0,
      "outputs": [
        {
          "output_type": "stream",
          "text": [
            "white wine::\n",
            "MEAN SQUARE ERROR:  951.6411209640635\n",
            "ROOT MEAN SQUARE ERROR:  30.84868102470612\n"
          ],
          "name": "stdout"
        },
        {
          "output_type": "display_data",
          "data": {
            "image/png": "[encoded data removed]",
            "text/plain": [
              "<Figure size 432x288 with 1 Axes>"
            ]
          },
          "metadata": {
            "tags": []
          }
        }
      ]
    },
    {
      "cell_type": "code",
      "metadata": {
        "id": "1SJipH37RWDn",
        "colab_type": "code",
        "outputId": "8bc3f3a4-1595-4f50-ac20-9d90c0ee76d0",
        "colab": {
          "base_uri": "https://localhost:8080/",
          "height": 350
        }
      },
      "source": [
        "x = red[['points']]\n",
        "y = red[['price']]\n",
        "\n",
        "x_train,x_test,y_train,y_test = train_test_split(x,y,test_size=0.3)\n",
        "model_price_red = LinearRegression()\n",
        "model_price_red.fit(x_train,y_train)\n",
        "y_pred = model_price_red.predict(x_test)\n",
        "r =metrics.mean_squared_error(y_test,y_pred)\n",
        "print(\"red wine::\")\n",
        "print(\"MEAN SQUARE ERROR: \", r)\n",
        "print(\"ROOT MEAN SQUARE ERROR: \",np.sqrt(r))\n",
        "\n",
        "pit.scatter(x,y,color='r')\n",
        "pit.xlabel('quality points')\n",
        "pit.ylabel('price')\n",
        "pit.title('Price determined from Quality points for red wine')\n",
        "pit.show()"
      ],
      "execution_count": 0,
      "outputs": [
        {
          "output_type": "stream",
          "text": [
            "red wine::\n",
            "MEAN SQUARE ERROR:  915.520067880147\n",
            "ROOT MEAN SQUARE ERROR:  30.257562160229416\n"
          ],
          "name": "stdout"
        },
        {
          "output_type": "display_data",
          "data": {
            "image/png": "[encoded data removed]",
            "text/plain": [
              "<Figure size 432x288 with 1 Axes>"
            ]
          },
          "metadata": {
            "tags": []
          }
        }
      ]
    },
    {
      "cell_type": "markdown",
      "metadata": {
        "id": "xZrS1Jrv_aZ1",
        "colab_type": "text"
      },
      "source": [
        "Now finding the unknown price of the wine in the wine quality dataset."
      ]
    },
    {
      "cell_type": "code",
      "metadata": {
        "id": "Tt2bZiBCUi-M",
        "colab_type": "code",
        "outputId": "cda2b6bf-55c2-42a7-f1a9-5e17a8796dac",
        "colab": {
          "base_uri": "https://localhost:8080/",
          "height": 235
        }
      },
      "source": [
        "white_wine['price']=model_price_white.predict(np.array(white_wine['points']).reshape(-1,1))\n",
        "red_wine['price']=model_price_red.predict(np.array(red_wine['points']).reshape(-1,1))"
      ],
      "execution_count": 0,
      "outputs": [
        {
          "output_type": "stream",
          "text": [
            "/usr/local/lib/python3.6/dist-packages/ipykernel_launcher.py:1: SettingWithCopyWarning: \n",
            "A value is trying to be set on a copy of a slice from a DataFrame.\n",
            "Try using .loc[row_indexer,col_indexer] = value instead\n",
            "\n",
            "See the caveats in the documentation: http://pandas.pydata.org/pandas-docs/stable/indexing.html#indexing-view-versus-copy\n",
            "  \"\"\"Entry point for launching an IPython kernel.\n",
            "/usr/local/lib/python3.6/dist-packages/ipykernel_launcher.py:2: SettingWithCopyWarning: \n",
            "A value is trying to be set on a copy of a slice from a DataFrame.\n",
            "Try using .loc[row_indexer,col_indexer] = value instead\n",
            "\n",
            "See the caveats in the documentation: http://pandas.pydata.org/pandas-docs/stable/indexing.html#indexing-view-versus-copy\n",
            "  \n"
          ],
          "name": "stderr"
        }
      ]
    },
    {
      "cell_type": "markdown",
      "metadata": {
        "id": "3ZUZR0C5YXxw",
        "colab_type": "text"
      },
      "source": [
        "# Estimation of quality based on chemical properties"
      ]
    },
    {
      "cell_type": "markdown",
      "metadata": {
        "id": "Kf5cS-UX_P4k",
        "colab_type": "text"
      },
      "source": [
        "Now we focus on the wine chemical datasets. We train a classification algorithm (Random Forest) with all the chemical properties against the sensory quality. The reason we take the sensory quality as the target is that the wine's taste greatly depends on tose properties. The model for the white wine:"
      ]
    },
    {
      "cell_type": "code",
      "metadata": {
        "id": "QmK9t7oNENX6",
        "colab_type": "code",
        "outputId": "97c2ba9c-9161-44f8-d7ec-8bb59289284c",
        "colab": {
          "base_uri": "https://localhost:8080/",
          "height": 108
        }
      },
      "source": [
        "from sklearn.ensemble import RandomForestClassifier\n",
        "import seaborn as sns\n",
        "\n",
        "x_white = white_wine[feature_names]\n",
        "y = white_wine['quality']\n",
        "x_white.fillna(0, inplace=True)\n"
      ],
      "execution_count": 0,
      "outputs": [
        {
          "output_type": "stream",
          "text": [
            "/usr/local/lib/python3.6/dist-packages/pandas/core/frame.py:4034: SettingWithCopyWarning: \n",
            "A value is trying to be set on a copy of a slice from a DataFrame\n",
            "\n",
            "See the caveats in the documentation: http://pandas.pydata.org/pandas-docs/stable/indexing.html#indexing-view-versus-copy\n",
            "  downcast=downcast, **kwargs)\n"
          ],
          "name": "stderr"
        }
      ]
    },
    {
      "cell_type": "markdown",
      "metadata": {
        "id": "WLViHOTVEQxV",
        "colab_type": "text"
      },
      "source": [
        "We split the dataset into train and test sets.\n",
        "    train sets: 70%\n",
        "    test sets: 30%"
      ]
    },
    {
      "cell_type": "code",
      "metadata": {
        "id": "cA7cyo95Wpw7",
        "colab_type": "code",
        "colab": {}
      },
      "source": [
        "x_train,x_test,y_train,y_test = train_test_split(x_white,y,test_size=0.3)\n"
      ],
      "execution_count": 0,
      "outputs": []
    },
    {
      "cell_type": "markdown",
      "metadata": {
        "id": "8GEkXfX1FAox",
        "colab_type": "text"
      },
      "source": [
        "Training the model:"
      ]
    },
    {
      "cell_type": "code",
      "metadata": {
        "id": "f5qVcR-xExK8",
        "colab_type": "code",
        "colab": {}
      },
      "source": [
        "model = RandomForestClassifier(n_estimators=10)\n",
        "model.fit(x_train,y_train)\n",
        "y_pred = model.predict(x_test)"
      ],
      "execution_count": 0,
      "outputs": []
    },
    {
      "cell_type": "markdown",
      "metadata": {
        "id": "rteyL2RDGrpB",
        "colab_type": "text"
      },
      "source": [
        "Finding the precission recall metrics and ploting the graph which gives the importance of each property."
      ]
    },
    {
      "cell_type": "code",
      "metadata": {
        "id": "_LXxHPDkE4XU",
        "colab_type": "code",
        "outputId": "1e20eb27-8b6a-4f04-a3a7-8bfb02cbecd2",
        "colab": {
          "base_uri": "https://localhost:8080/",
          "height": 550
        }
      },
      "source": [
        "print(\"PRECISION RECALL: \", metrics.recall_score(y_test,y_pred,average='weighted'))\n",
        "\n",
        "feature_imp = pd.Series(model.feature_importances_,index = feature_names).sort_values(ascending=False)\n",
        "print(feature_imp)\n",
        "\n",
        "sns.barplot(x=feature_imp,y=feature_imp.index)\n",
        "pit.xlabel('Properties importance score')\n",
        "pit.ylabel('Chemical Properties')\n",
        "pit.title('Visualizing Important Features for white wine')\n",
        "pit.legend()\n",
        "pit.show()"
      ],
      "execution_count": 0,
      "outputs": [
        {
          "output_type": "stream",
          "text": [
            "No handles with labels found to put in legend.\n"
          ],
          "name": "stderr"
        },
        {
          "output_type": "stream",
          "text": [
            "PRECISION RECALL:  0.682312925170068\n",
            "alcohol                 0.114201\n",
            "density                 0.105037\n",
            "free sulfur dioxide     0.096585\n",
            "volatile acidity        0.096329\n",
            "total sulfur dioxide    0.094755\n",
            "residual sugar          0.093899\n",
            "chlorides               0.087890\n",
            "citric acid             0.081694\n",
            "sulphates               0.079755\n",
            "pH                      0.075298\n",
            "fixed acidity           0.074555\n",
            "dtype: float64\n"
          ],
          "name": "stdout"
        },
        {
          "output_type": "display_data",
          "data": {
            "image/png": "[encoded data removed]",
            "text/plain": [
              "<Figure size 432x288 with 1 Axes>"
            ]
          },
          "metadata": {
            "tags": []
          }
        }
      ]
    },
    {
      "cell_type": "markdown",
      "metadata": {
        "id": "pslpKn1jHDxC",
        "colab_type": "text"
      },
      "source": [
        "This is for red wine:"
      ]
    },
    {
      "cell_type": "code",
      "metadata": {
        "id": "DrJF2QV00CJe",
        "colab_type": "code",
        "outputId": "834a5c29-4129-4547-c666-e4cc3dce1bc9",
        "colab": {
          "base_uri": "https://localhost:8080/",
          "height": 641
        }
      },
      "source": [
        "x_red = red_wine[feature_names]\n",
        "y = red_wine['quality']\n",
        "x_red.fillna(0, inplace=True)\n",
        "\n",
        "x_train,x_test,y_train,y_test = train_test_split(x_red,y,test_size=0.3)\n",
        "\n",
        "model = RandomForestClassifier(n_estimators=10)\n",
        "model.fit(x_train,y_train)\n",
        "y_pred = model.predict(x_test)\n",
        "\n",
        "print(\"PRECISION RECALL: \", metrics.recall_score(y_test,y_pred,average='weighted'))\n",
        "\n",
        "feature_imp = pd.Series(model.feature_importances_,index = feature_names).sort_values(ascending=False)\n",
        "print(feature_imp)\n",
        "\n",
        "sns.barplot(x=feature_imp,y=feature_imp.index)\n",
        "pit.xlabel('Properties importance score')\n",
        "pit.ylabel('Chemical Properties')\n",
        "pit.title('Visualizing Important Features for red wine')\n",
        "pit.legend()\n",
        "pit.show()"
      ],
      "execution_count": 0,
      "outputs": [
        {
          "output_type": "stream",
          "text": [
            "/usr/local/lib/python3.6/dist-packages/pandas/core/frame.py:4034: SettingWithCopyWarning: \n",
            "A value is trying to be set on a copy of a slice from a DataFrame\n",
            "\n",
            "See the caveats in the documentation: http://pandas.pydata.org/pandas-docs/stable/indexing.html#indexing-view-versus-copy\n",
            "  downcast=downcast, **kwargs)\n",
            "No handles with labels found to put in legend.\n"
          ],
          "name": "stderr"
        },
        {
          "output_type": "stream",
          "text": [
            "PRECISION RECALL:  0.6770833333333334\n",
            "alcohol                 0.173448\n",
            "volatile acidity        0.108092\n",
            "sulphates               0.101528\n",
            "total sulfur dioxide    0.097695\n",
            "density                 0.088812\n",
            "chlorides               0.087960\n",
            "pH                      0.072715\n",
            "citric acid             0.070682\n",
            "residual sugar          0.068853\n",
            "free sulfur dioxide     0.065449\n",
            "fixed acidity           0.064765\n",
            "dtype: float64\n"
          ],
          "name": "stdout"
        },
        {
          "output_type": "display_data",
          "data": {
            "image/png": "[encoded data removed]",
            "text/plain": [
              "<Figure size 432x288 with 1 Axes>"
            ]
          },
          "metadata": {
            "tags": []
          }
        }
      ]
    },
    {
      "cell_type": "markdown",
      "metadata": {
        "id": "vLD63f0wPCAV",
        "colab_type": "text"
      },
      "source": [
        "Taking the first five important features from both red wine and white wine random forest models, to create a logistic regression model for predicting the quality."
      ]
    },
    {
      "cell_type": "code",
      "metadata": {
        "id": "Km7S_Q7ALIg8",
        "colab_type": "code",
        "outputId": "df156b8a-8cfb-42e2-e8db-439bb5229270",
        "colab": {
          "base_uri": "https://localhost:8080/",
          "height": 455
        }
      },
      "source": [
        "feature = ['alcohol','density','volatile acidity','free sulfur dioxide','total sulfur dioxide','sulphates']\n",
        "x = white_wine[feature]\n",
        "y = white_wine['quality']\n",
        "x.fillna(0, inplace=True)\n",
        "\n",
        "model_white = LogisticRegression() #RandomForestClassifier(n_estimators=10)\n",
        "model_white.fit(x,y)\n",
        "\n",
        "x = red_wine[feature]\n",
        "y = red_wine['quality']\n",
        "x.fillna(0, inplace=True)\n",
        "\n",
        "model_red = LogisticRegression() #RandomForestClassifier(n_estimators=10)\n",
        "model_red.fit(x,y)"
      ],
      "execution_count": 0,
      "outputs": [
        {
          "output_type": "stream",
          "text": [
            "/usr/local/lib/python3.6/dist-packages/pandas/core/frame.py:4034: SettingWithCopyWarning: \n",
            "A value is trying to be set on a copy of a slice from a DataFrame\n",
            "\n",
            "See the caveats in the documentation: http://pandas.pydata.org/pandas-docs/stable/indexing.html#indexing-view-versus-copy\n",
            "  downcast=downcast, **kwargs)\n",
            "/usr/local/lib/python3.6/dist-packages/sklearn/linear_model/logistic.py:432: FutureWarning: Default solver will be changed to 'lbfgs' in 0.22. Specify a solver to silence this warning.\n",
            "  FutureWarning)\n",
            "/usr/local/lib/python3.6/dist-packages/sklearn/linear_model/logistic.py:469: FutureWarning: Default multi_class will be changed to 'auto' in 0.22. Specify the multi_class option to silence this warning.\n",
            "  \"this warning.\", FutureWarning)\n",
            "/usr/local/lib/python3.6/dist-packages/pandas/core/frame.py:4034: SettingWithCopyWarning: \n",
            "A value is trying to be set on a copy of a slice from a DataFrame\n",
            "\n",
            "See the caveats in the documentation: http://pandas.pydata.org/pandas-docs/stable/indexing.html#indexing-view-versus-copy\n",
            "  downcast=downcast, **kwargs)\n",
            "/usr/local/lib/python3.6/dist-packages/sklearn/linear_model/logistic.py:432: FutureWarning: Default solver will be changed to 'lbfgs' in 0.22. Specify a solver to silence this warning.\n",
            "  FutureWarning)\n",
            "/usr/local/lib/python3.6/dist-packages/sklearn/linear_model/logistic.py:469: FutureWarning: Default multi_class will be changed to 'auto' in 0.22. Specify the multi_class option to silence this warning.\n",
            "  \"this warning.\", FutureWarning)\n"
          ],
          "name": "stderr"
        },
        {
          "output_type": "execute_result",
          "data": {
            "text/plain": [
              "LogisticRegression(C=1.0, class_weight=None, dual=False, fit_intercept=True,\n",
              "                   intercept_scaling=1, l1_ratio=None, max_iter=100,\n",
              "                   multi_class='warn', n_jobs=None, penalty='l2',\n",
              "                   random_state=None, solver='warn', tol=0.0001, verbose=0,\n",
              "                   warm_start=False)"
            ]
          },
          "metadata": {
            "tags": []
          },
          "execution_count": 21
        }
      ]
    },
    {
      "cell_type": "markdown",
      "metadata": {
        "id": "6BFnDr44AVIo",
        "colab_type": "text"
      },
      "source": [
        "Now lets find the quality based on this model for the wine quality datasets."
      ]
    },
    {
      "cell_type": "code",
      "metadata": {
        "id": "EM4DfMg-Alm7",
        "colab_type": "code",
        "outputId": "3b2cd46a-4890-4772-c9dd-d99d5a73960b",
        "colab": {
          "base_uri": "https://localhost:8080/",
          "height": 235
        }
      },
      "source": [
        "white_wine['predicted quality'] = model_white.predict(x_white[feature])\n",
        "red_wine['predicted quality'] = model_red.predict(x_red[feature])"
      ],
      "execution_count": 0,
      "outputs": [
        {
          "output_type": "stream",
          "text": [
            "/usr/local/lib/python3.6/dist-packages/ipykernel_launcher.py:1: SettingWithCopyWarning: \n",
            "A value is trying to be set on a copy of a slice from a DataFrame.\n",
            "Try using .loc[row_indexer,col_indexer] = value instead\n",
            "\n",
            "See the caveats in the documentation: http://pandas.pydata.org/pandas-docs/stable/indexing.html#indexing-view-versus-copy\n",
            "  \"\"\"Entry point for launching an IPython kernel.\n",
            "/usr/local/lib/python3.6/dist-packages/ipykernel_launcher.py:2: SettingWithCopyWarning: \n",
            "A value is trying to be set on a copy of a slice from a DataFrame.\n",
            "Try using .loc[row_indexer,col_indexer] = value instead\n",
            "\n",
            "See the caveats in the documentation: http://pandas.pydata.org/pandas-docs/stable/indexing.html#indexing-view-versus-copy\n",
            "  \n"
          ],
          "name": "stderr"
        }
      ]
    },
    {
      "cell_type": "markdown",
      "metadata": {
        "id": "LNKxzZyBYjoy",
        "colab_type": "text"
      },
      "source": [
        "#Determining the price for the estimated quality"
      ]
    },
    {
      "cell_type": "markdown",
      "metadata": {
        "id": "Fw4RN46SANGg",
        "colab_type": "text"
      },
      "source": [
        "We use the same model(Linear regression) that was trained with points and price for calculating the price again. Before we use the model, first lets convert the quality predicted from the scale of 0-10 to 0-100 scale. This is for white wine:"
      ]
    },
    {
      "cell_type": "code",
      "metadata": {
        "id": "QUFXXWrICun6",
        "colab_type": "code",
        "outputId": "27354a86-0096-436c-e1e1-81321c2e079e",
        "colab": {
          "base_uri": "https://localhost:8080/",
          "height": 235
        }
      },
      "source": [
        "white_wine['predicted points'] = (((white_wine['predicted quality'] - old_min) * (new_max - new_min)) / (old_max - old_min)) + new_min\n",
        "white_wine['predicted price'] = model_price_white.predict(white_wine[['predicted points']])"
      ],
      "execution_count": 0,
      "outputs": [
        {
          "output_type": "stream",
          "text": [
            "/usr/local/lib/python3.6/dist-packages/ipykernel_launcher.py:1: SettingWithCopyWarning: \n",
            "A value is trying to be set on a copy of a slice from a DataFrame.\n",
            "Try using .loc[row_indexer,col_indexer] = value instead\n",
            "\n",
            "See the caveats in the documentation: http://pandas.pydata.org/pandas-docs/stable/indexing.html#indexing-view-versus-copy\n",
            "  \"\"\"Entry point for launching an IPython kernel.\n",
            "/usr/local/lib/python3.6/dist-packages/ipykernel_launcher.py:2: SettingWithCopyWarning: \n",
            "A value is trying to be set on a copy of a slice from a DataFrame.\n",
            "Try using .loc[row_indexer,col_indexer] = value instead\n",
            "\n",
            "See the caveats in the documentation: http://pandas.pydata.org/pandas-docs/stable/indexing.html#indexing-view-versus-copy\n",
            "  \n"
          ],
          "name": "stderr"
        }
      ]
    },
    {
      "cell_type": "markdown",
      "metadata": {
        "id": "X86TlD9nAZvT",
        "colab_type": "text"
      },
      "source": [
        "This is for red wine:"
      ]
    },
    {
      "cell_type": "code",
      "metadata": {
        "id": "nzPXjX1cEQmA",
        "colab_type": "code",
        "outputId": "144d597a-f01e-4961-bd00-2cb1cac4d8f0",
        "colab": {
          "base_uri": "https://localhost:8080/",
          "height": 235
        }
      },
      "source": [
        "red_wine['predicted points'] = (((red_wine['predicted quality'] - old_min) * (new_max - new_min)) / (old_max - old_min)) + new_min\n",
        "red_wine['predicted price'] = model_price_red.predict(red_wine[['predicted points']])"
      ],
      "execution_count": 0,
      "outputs": [
        {
          "output_type": "stream",
          "text": [
            "/usr/local/lib/python3.6/dist-packages/ipykernel_launcher.py:1: SettingWithCopyWarning: \n",
            "A value is trying to be set on a copy of a slice from a DataFrame.\n",
            "Try using .loc[row_indexer,col_indexer] = value instead\n",
            "\n",
            "See the caveats in the documentation: http://pandas.pydata.org/pandas-docs/stable/indexing.html#indexing-view-versus-copy\n",
            "  \"\"\"Entry point for launching an IPython kernel.\n",
            "/usr/local/lib/python3.6/dist-packages/ipykernel_launcher.py:2: SettingWithCopyWarning: \n",
            "A value is trying to be set on a copy of a slice from a DataFrame.\n",
            "Try using .loc[row_indexer,col_indexer] = value instead\n",
            "\n",
            "See the caveats in the documentation: http://pandas.pydata.org/pandas-docs/stable/indexing.html#indexing-view-versus-copy\n",
            "  \n"
          ],
          "name": "stderr"
        }
      ]
    },
    {
      "cell_type": "markdown",
      "metadata": {
        "id": "9Qnc6NdRAuJR",
        "colab_type": "text"
      },
      "source": [
        "# Comparing the results"
      ]
    },
    {
      "cell_type": "code",
      "metadata": {
        "id": "8LQCOpxJUtg7",
        "colab_type": "code",
        "outputId": "b83d5232-582a-46fc-ff51-7c9a415fd8fb",
        "colab": {
          "base_uri": "https://localhost:8080/",
          "height": 535
        }
      },
      "source": [
        "total_price_white = sum(white_wine['price'])\n",
        "total_price_red = sum(red_wine['price'])\n",
        "total_price = total_price_white + total_price_red\n",
        "\n",
        "print('Predicted price from sensory points')\n",
        "print(\"Total price for white wine: \", \"{0:.2f}\".format(total_price_white))\n",
        "print(\"Total price for red wine: \", \"{0:.2f}\".format(total_price_red))\n",
        "print(\"Total price : \", \"{0:.2f}\".format(total_price))\n",
        "\n",
        "\n",
        "predicted_total_price_white = sum(white_wine['predicted price'])\n",
        "predicted_total_price_red = sum(red_wine['predicted price'])\n",
        "predicted_total_price = predicted_total_price_white + predicted_total_price_red\n",
        "\n",
        "print('Predicted price from chemical analysis')\n",
        "print(\"Total predicted price for white wine: \", \"{0:.2f}\".format(predicted_total_price_white))\n",
        "print(\"Total predicted price for red wine: \", \"{0:.2f}\".format(predicted_total_price_red))\n",
        "print(\"Total predicted price : \", \"{0:.2f}\".format(predicted_total_price))\n",
        "\n",
        "barWidth = 0.2\n",
        "pit.figure(figsize=(8, 6))\n",
        "r1 = np.arange(3)\n",
        "r2 = [x + barWidth for x in r1]\n",
        "pit.bar(r1, [total_price_white,total_price_red,total_price], width = barWidth, color = 'blue', edgecolor = 'black',label='Predicted price from sensory points')\n",
        "pit.bar(r2, [predicted_total_price_white,predicted_total_price_red,predicted_total_price], width = barWidth, color = 'cyan', edgecolor = 'black', label='Predicted price from chemical analysis')\n",
        "pit.xticks([r + barWidth for r in range(3)], ['white wine','red wine','total'])\n",
        "pit.ylabel('Price')\n",
        "pit.title('Comparing the price calculated from sensory points and estmated quality points from chemical analysis')\n",
        "pit.legend()\n",
        "pit.show()"
      ],
      "execution_count": 0,
      "outputs": [
        {
          "output_type": "stream",
          "text": [
            "Predicted price from sensory points\n",
            "Total price for white wine:  175740.74\n",
            "Total price for red wine:  82357.55\n",
            "Total price :  258098.29\n",
            "Predicted price from chemical analysis\n",
            "Total predicted price for white wine:  208020.78\n",
            "Total predicted price for red wine:  77284.04\n",
            "Total predicted price :  285304.82\n"
          ],
          "name": "stdout"
        },
        {
          "output_type": "display_data",
          "data": {
            "image/png": "[encoded data removed]",
            "text/plain": [
              "<Figure size 576x432 with 1 Axes>"
            ]
          },
          "metadata": {
            "tags": []
          }
        }
      ]
    },
    {
      "cell_type": "markdown",
      "metadata": {
        "id": "nSyD6Lb-X4vb",
        "colab_type": "text"
      },
      "source": [
        "From the above, we can say that the wine makers can have a profit for white wine and loss for red wine, but has a total profit."
      ]
    },
    {
      "cell_type": "code",
      "metadata": {
        "id": "hxrklQBnYp5r",
        "colab_type": "code",
        "outputId": "67eb313e-88fd-42a7-e8ef-f8278f6f6022",
        "colab": {
          "base_uri": "https://localhost:8080/",
          "height": 72
        }
      },
      "source": [
        "print('Profit gained for white wine: ',((predicted_total_price_white-total_price_white)/total_price)*100,\"%\")\n",
        "print('Loss gained for red wine: ',((total_price_red-predicted_total_price_red)/total_price)*100,\"%\")\n",
        "print('Total Profit gained: ',((predicted_total_price-total_price)/total_price)*100,\"%\")"
      ],
      "execution_count": 0,
      "outputs": [
        {
          "output_type": "stream",
          "text": [
            "Profit gained for white wine:  12.506880594068939 %\n",
            "Loss gained for red wine:  1.9657291780859656 %\n",
            "Total Profit gained:  10.54115141598298 %\n"
          ],
          "name": "stdout"
        }
      ]
    },
    {
      "cell_type": "markdown",
      "metadata": {
        "id": "mCSdIjk5mXe7",
        "colab_type": "text"
      },
      "source": [
        "# Conclusion"
      ]
    },
    {
      "cell_type": "markdown",
      "metadata": {
        "id": "Qdx_D5hYmixT",
        "colab_type": "text"
      },
      "source": [
        "Sensory points are awarded by tasting the wine. This is not standard and will vary among many tasters. Hence estimating its quality from the sensory points is not accurate.\n",
        "\n",
        "Our method estimates the quality from the chemical properties, which even the computer can calculate.The price can be changed accourding to the winery, if they can train the computer with their own quality vs price datasets."
      ]
    },
    {
      "cell_type": "markdown",
      "metadata": {
        "id": "w7tCFfYJohBy",
        "colab_type": "text"
      },
      "source": [
        "# References"
      ]
    },
    {
      "cell_type": "markdown",
      "metadata": {
        "id": "T5GtZk6Pooab",
        "colab_type": "text"
      },
      "source": [
        "\n",
        "\n",
        "1.   [Red and White Wine Analysis](https://https://rstudio-pubs-static.s3.amazonaws.com/98369_7d87780667b74901af21ff93c1c1e1db.html), by Ian Xiao on June 27, 2015\n",
        "2.  [Correlating Wine Quality Indicators to Chemical and Sensory](https://www.mdpi.com/1420-3049/20/5/8453/pdf\n",
        ")by Helene Hopfer, Jenny Nelson, Susan E. Ebeler and Hildegarde Heymann on Molecules 2015, 20\n",
        "3.[ How to Choose a Good Wine](https://www.marketviewliquor.com/blog/2018/08/how-to-choose-a-good-wine/)\n",
        "\n",
        "**Datasets:**\n",
        "\n",
        "\n",
        "1.   [Wine chemical dataset](https://www.kaggle.com/rajyellow46/wine-quality) downloaded from kaggle provided by Raj Kumar\n",
        "2.  [Wine Review](https://www.kaggle.com/zynicide/wine-reviews) downloaded from kaggle provided by zackthout\n",
        "\n",
        "\n",
        "\n",
        "\n",
        "\n"
      ]
    }
  ]
}